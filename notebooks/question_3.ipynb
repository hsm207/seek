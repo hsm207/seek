{
 "cells": [
  {
   "cell_type": "markdown",
   "metadata": {
    "toc": true
   },
   "source": [
    "<h1>Table of Contents<span class=\"tocSkip\"></span></h1>\n",
    "<div class=\"toc\" style=\"margin-top: 1em;\"><ul class=\"toc-item\"><li><span><a href=\"#Libraries\" data-toc-modified-id=\"Libraries-1\"><span class=\"toc-item-num\">1&nbsp;&nbsp;</span>Libraries</a></span></li><li><span><a href=\"#Question-3a\" data-toc-modified-id=\"Question-3a-2\"><span class=\"toc-item-num\">2&nbsp;&nbsp;</span>Question 3a</a></span></li><li><span><a href=\"#Question-3b\" data-toc-modified-id=\"Question-3b-3\"><span class=\"toc-item-num\">3&nbsp;&nbsp;</span>Question 3b</a></span></li></ul></div>"
   ]
  },
  {
   "cell_type": "markdown",
   "metadata": {},
   "source": [
    "# Libraries"
   ]
  },
  {
   "cell_type": "markdown",
   "metadata": {},
   "source": [
    "Import required libraries:"
   ]
  },
  {
   "cell_type": "code",
   "execution_count": 1,
   "metadata": {},
   "outputs": [],
   "source": [
    "import pandas as pd\n",
    "import retinasdk\n",
    "import numpy as np\n",
    "from pathlib import Path\n",
    "import re\n",
    "from sklearn.cluster import DBSCAN, KMeans\n",
    "from sklearn import manifold\n",
    "from sklearn import metrics\n",
    "from nltk import word_tokenize"
   ]
  },
  {
   "cell_type": "markdown",
   "metadata": {},
   "source": [
    "# Question 3a\n",
    "\n",
    "**Question**\n",
    "![](./images/question3a.png)\n",
    "**Solution**"
   ]
  },
  {
   "cell_type": "markdown",
   "metadata": {},
   "source": [
    "Read the output of Q2:"
   ]
  },
  {
   "cell_type": "code",
   "execution_count": 2,
   "metadata": {},
   "outputs": [
    {
     "data": {
      "text/html": [
       "<div>\n",
       "<style scoped>\n",
       "    .dataframe tbody tr th:only-of-type {\n",
       "        vertical-align: middle;\n",
       "    }\n",
       "\n",
       "    .dataframe tbody tr th {\n",
       "        vertical-align: top;\n",
       "    }\n",
       "\n",
       "    .dataframe thead th {\n",
       "        text-align: right;\n",
       "    }\n",
       "</style>\n",
       "<table border=\"1\" class=\"dataframe\">\n",
       "  <thead>\n",
       "    <tr style=\"text-align: right;\">\n",
       "      <th></th>\n",
       "      <th>Job Title</th>\n",
       "      <th>Position Duration</th>\n",
       "      <th>Position Location</th>\n",
       "      <th>Job Description</th>\n",
       "      <th>Job Responsibilities</th>\n",
       "      <th>Required Qualifications</th>\n",
       "      <th>Remuneration</th>\n",
       "      <th>Application Deadline</th>\n",
       "      <th>About Company</th>\n",
       "      <th>Clean Job Responsibilities</th>\n",
       "      <th>Duration</th>\n",
       "    </tr>\n",
       "  </thead>\n",
       "  <tbody>\n",
       "    <tr>\n",
       "      <th>0</th>\n",
       "      <td>Chief Financial Officer</td>\n",
       "      <td>NaN</td>\n",
       "      <td>Yerevan, Armenia</td>\n",
       "      <td>AMERIA Investment Consulting Company is seekin...</td>\n",
       "      <td>- Supervises financial management and administ...</td>\n",
       "      <td>To perform this job successfully, an\\r\\r\\nindi...</td>\n",
       "      <td>NaN</td>\n",
       "      <td>26 January 2004</td>\n",
       "      <td>NaN</td>\n",
       "      <td>- supervise financial management administrativ...</td>\n",
       "      <td>this is a custom message</td>\n",
       "    </tr>\n",
       "    <tr>\n",
       "      <th>1</th>\n",
       "      <td>Full-time Community Connections Intern (paid i...</td>\n",
       "      <td>3 months</td>\n",
       "      <td>IREX Armenia Main Office; Yerevan, Armenia</td>\n",
       "      <td>IREX currently seeks to fill the position of a...</td>\n",
       "      <td>- Presenting the CC program to interested part...</td>\n",
       "      <td>- Bachelor's Degree; Master's is preferred;\\r\\...</td>\n",
       "      <td>Commensurate with experience.</td>\n",
       "      <td>12 January 2004</td>\n",
       "      <td>The International Research &amp; Exchanges Board (...</td>\n",
       "      <td>- present cc program interest party ; - assist...</td>\n",
       "      <td>3 months</td>\n",
       "    </tr>\n",
       "    <tr>\n",
       "      <th>2</th>\n",
       "      <td>Country Coordinator</td>\n",
       "      <td>Renewable annual contract</td>\n",
       "      <td>Yerevan, Armenia</td>\n",
       "      <td>Public outreach and strengthening of a growing...</td>\n",
       "      <td>- Working with the Country Director to provide...</td>\n",
       "      <td>- Degree in environmentally related field, or ...</td>\n",
       "      <td>Salary commensurate with experience.</td>\n",
       "      <td>20 January 2004</td>\n",
       "      <td>The Caucasus Environmental NGO Network is a\\r\\...</td>\n",
       "      <td>- work country director provide environmental ...</td>\n",
       "      <td>Renewable annual contract\\r\\r\\nPOSITION</td>\n",
       "    </tr>\n",
       "  </tbody>\n",
       "</table>\n",
       "</div>"
      ],
      "text/plain": [
       "                                           Job Title  \\\n",
       "0                            Chief Financial Officer   \n",
       "1  Full-time Community Connections Intern (paid i...   \n",
       "2                                Country Coordinator   \n",
       "\n",
       "           Position Duration                           Position Location  \\\n",
       "0                        NaN                            Yerevan, Armenia   \n",
       "1                   3 months  IREX Armenia Main Office; Yerevan, Armenia   \n",
       "2  Renewable annual contract                            Yerevan, Armenia   \n",
       "\n",
       "                                     Job Description  \\\n",
       "0  AMERIA Investment Consulting Company is seekin...   \n",
       "1  IREX currently seeks to fill the position of a...   \n",
       "2  Public outreach and strengthening of a growing...   \n",
       "\n",
       "                                Job Responsibilities  \\\n",
       "0  - Supervises financial management and administ...   \n",
       "1  - Presenting the CC program to interested part...   \n",
       "2  - Working with the Country Director to provide...   \n",
       "\n",
       "                             Required Qualifications  \\\n",
       "0  To perform this job successfully, an\\r\\r\\nindi...   \n",
       "1  - Bachelor's Degree; Master's is preferred;\\r\\...   \n",
       "2  - Degree in environmentally related field, or ...   \n",
       "\n",
       "                           Remuneration Application Deadline  \\\n",
       "0                                   NaN      26 January 2004   \n",
       "1         Commensurate with experience.      12 January 2004   \n",
       "2  Salary commensurate with experience.      20 January 2004   \n",
       "\n",
       "                                       About Company  \\\n",
       "0                                                NaN   \n",
       "1  The International Research & Exchanges Board (...   \n",
       "2  The Caucasus Environmental NGO Network is a\\r\\...   \n",
       "\n",
       "                          Clean Job Responsibilities  \\\n",
       "0  - supervise financial management administrativ...   \n",
       "1  - present cc program interest party ; - assist...   \n",
       "2  - work country director provide environmental ...   \n",
       "\n",
       "                                  Duration  \n",
       "0                 this is a custom message  \n",
       "1                                 3 months  \n",
       "2  Renewable annual contract\\r\\r\\nPOSITION  "
      ]
     },
     "execution_count": 2,
     "metadata": {},
     "output_type": "execute_result"
    }
   ],
   "source": [
    "q2_df = pd.read_csv('../datasets/output_from_Q2.csv')\n",
    "q2_df.head(3)"
   ]
  },
  {
   "cell_type": "markdown",
   "metadata": {},
   "source": [
    "Setup to use [Cortical.io](https://www.cortical.io/)'s SDR as the word embeddings:"
   ]
  },
  {
   "cell_type": "code",
   "execution_count": 3,
   "metadata": {},
   "outputs": [],
   "source": [
    "api_key = 'e098e740-1fdd-11e7-b22d-93a4ae922ff1'\n",
    "liteClient = retinasdk.LiteClient(api_key)"
   ]
  },
  {
   "cell_type": "markdown",
   "metadata": {},
   "source": [
    "Build a Series containing the fields to be used as input:"
   ]
  },
  {
   "cell_type": "code",
   "execution_count": 4,
   "metadata": {},
   "outputs": [],
   "source": [
    "feature_columns = ['Job Title', 'Job Description', 'Job Responsibilities']\n",
    "input_text = q2_df[feature_columns] \\\n",
    "    .fillna('') \\\n",
    "    .apply(lambda columns: ' '.join(columns), axis=1)\\\n",
    "    .apply(lambda text: 'no text' if text.strip() == '' else text)\\\n",
    "    .apply(lambda text: re.sub('[^A-Za-z]', ' ', text))"
   ]
  },
  {
   "cell_type": "markdown",
   "metadata": {},
   "source": [
    "Get the semantic fingerprints and save the intemediary results:"
   ]
  },
  {
   "cell_type": "code",
   "execution_count": 5,
   "metadata": {},
   "outputs": [
    {
     "name": "stdout",
     "output_type": "stream",
     "text": [
      "Wall time: 1.99 ms\n"
     ]
    }
   ],
   "source": [
    "%%time\n",
    "fingerprints_file = '../datasets/output_from_Q2_with_fingerprints.csv'\n",
    "\n",
    "if not Path(fingerprints_file).exists():\n",
    "    q2_df['finger_print'] = input_text.apply(lambda text: liteClient.getFingerprint(text))\n",
    "    q2_df.to_csv(fingerprints_file, index = False)"
   ]
  },
  {
   "cell_type": "markdown",
   "metadata": {},
   "source": [
    "Convert all semantic fingerprints into its vector representation and drop duplicate feature columns:"
   ]
  },
  {
   "cell_type": "code",
   "execution_count": 6,
   "metadata": {},
   "outputs": [
    {
     "name": "stdout",
     "output_type": "stream",
     "text": [
      "Wall time: 36.1 s\n"
     ]
    }
   ],
   "source": [
    "%%time\n",
    "def fingerprint_to_vector(fingerprint):\n",
    "    fingerprint = eval(fingerprint)\n",
    "    vec = np.zeros(16384)\n",
    "    vec[fingerprint] = 1\n",
    "    \n",
    "    return vec\n",
    "\n",
    "q2_df = pd.read_csv(fingerprints_file)\n",
    "\n",
    "q2_df['finger_print'] = q2_df['finger_print'].apply(fingerprint_to_vector)\n",
    "q2_df = q2_df.drop_duplicates(['Job Title', 'Job Description', 'Job Responsibilities'])"
   ]
  },
  {
   "cell_type": "markdown",
   "metadata": {},
   "source": [
    "Drop job ads whose cleaned job responsibilities contain the same words:"
   ]
  },
  {
   "cell_type": "code",
   "execution_count": 7,
   "metadata": {},
   "outputs": [],
   "source": [
    "q2_df['Extra Clean Job Responsibilities'] = q2_df['Clean Job Responsibilities']\\\n",
    "    .fillna('')\\\n",
    "    .apply(lambda text: [token for token in word_tokenize(text) if token.isalpha()])\\\n",
    "    .apply(lambda token_list: ' '.join(token_list))\n",
    "\n",
    "q2_df = q2_df.drop_duplicates(['Extra Clean Job Responsibilities'])"
   ]
  },
  {
   "cell_type": "markdown",
   "metadata": {},
   "source": [
    "Build the feature matrix:"
   ]
  },
  {
   "cell_type": "code",
   "execution_count": 8,
   "metadata": {},
   "outputs": [],
   "source": [
    "feature_matrix = np.stack(q2_df['finger_print'].values)"
   ]
  },
  {
   "cell_type": "markdown",
   "metadata": {},
   "source": [
    "Apply the K-Means clustering algorithm on the feature matrix:"
   ]
  },
  {
   "cell_type": "code",
   "execution_count": 9,
   "metadata": {},
   "outputs": [
    {
     "name": "stdout",
     "output_type": "stream",
     "text": [
      "Wall time: 4min 42s\n"
     ]
    }
   ],
   "source": [
    "%%time\n",
    "db = KMeans(init='k-means++', n_clusters=2, n_init=10, n_jobs=-1).fit(feature_matrix)"
   ]
  },
  {
   "cell_type": "markdown",
   "metadata": {},
   "source": [
    "Assess quality of the clustering algorithm's groups:"
   ]
  },
  {
   "cell_type": "code",
   "execution_count": 10,
   "metadata": {},
   "outputs": [
    {
     "name": "stdout",
     "output_type": "stream",
     "text": [
      "Wall time: 8.7 s\n"
     ]
    },
    {
     "data": {
      "text/plain": [
       "475.60534390234324"
      ]
     },
     "execution_count": 10,
     "metadata": {},
     "output_type": "execute_result"
    }
   ],
   "source": [
    "%%time\n",
    "metrics.calinski_harabaz_score(feature_matrix, db.labels_)"
   ]
  },
  {
   "cell_type": "markdown",
   "metadata": {},
   "source": [
    "Note: In my experiments, the evaluation metric is highest when the number of clusters is 2."
   ]
  },
  {
   "cell_type": "markdown",
   "metadata": {},
   "source": [
    "Assign group labels to each job ad:"
   ]
  },
  {
   "cell_type": "code",
   "execution_count": 11,
   "metadata": {},
   "outputs": [],
   "source": [
    "q2_df['label'] = db.labels_"
   ]
  },
  {
   "cell_type": "markdown",
   "metadata": {},
   "source": [
    "# Question 3b"
   ]
  },
  {
   "cell_type": "markdown",
   "metadata": {},
   "source": [
    "**Question**\n",
    "![](./images/question3b.png)"
   ]
  },
  {
   "cell_type": "markdown",
   "metadata": {},
   "source": [
    "**Solution**"
   ]
  },
  {
   "cell_type": "markdown",
   "metadata": {},
   "source": [
    "Count the number of job ads in each group:"
   ]
  },
  {
   "cell_type": "code",
   "execution_count": 12,
   "metadata": {},
   "outputs": [
    {
     "data": {
      "text/html": [
       "<div>\n",
       "<style scoped>\n",
       "    .dataframe tbody tr th:only-of-type {\n",
       "        vertical-align: middle;\n",
       "    }\n",
       "\n",
       "    .dataframe tbody tr th {\n",
       "        vertical-align: top;\n",
       "    }\n",
       "\n",
       "    .dataframe thead th {\n",
       "        text-align: right;\n",
       "    }\n",
       "</style>\n",
       "<table border=\"1\" class=\"dataframe\">\n",
       "  <thead>\n",
       "    <tr style=\"text-align: right;\">\n",
       "      <th></th>\n",
       "      <th>n</th>\n",
       "    </tr>\n",
       "    <tr>\n",
       "      <th>label</th>\n",
       "      <th></th>\n",
       "    </tr>\n",
       "  </thead>\n",
       "  <tbody>\n",
       "    <tr>\n",
       "      <th>1</th>\n",
       "      <td>9938</td>\n",
       "    </tr>\n",
       "    <tr>\n",
       "      <th>0</th>\n",
       "      <td>3230</td>\n",
       "    </tr>\n",
       "  </tbody>\n",
       "</table>\n",
       "</div>"
      ],
      "text/plain": [
       "          n\n",
       "label      \n",
       "1      9938\n",
       "0      3230"
      ]
     },
     "execution_count": 12,
     "metadata": {},
     "output_type": "execute_result"
    }
   ],
   "source": [
    "group_summary = q2_df\\\n",
    " .query('label != -1')\\\n",
    " .groupby('label')\\\n",
    " .size()\\\n",
    " .to_frame('n')\\\n",
    " .sort_values('n', ascending=False)\n",
    "\n",
    "group_summary"
   ]
  },
  {
   "cell_type": "markdown",
   "metadata": {},
   "source": [
    "Display some members from each group:"
   ]
  },
  {
   "cell_type": "code",
   "execution_count": 13,
   "metadata": {},
   "outputs": [
    {
     "data": {
      "text/html": [
       "<div>\n",
       "<style scoped>\n",
       "    .dataframe tbody tr th:only-of-type {\n",
       "        vertical-align: middle;\n",
       "    }\n",
       "\n",
       "    .dataframe tbody tr th {\n",
       "        vertical-align: top;\n",
       "    }\n",
       "\n",
       "    .dataframe thead th {\n",
       "        text-align: right;\n",
       "    }\n",
       "</style>\n",
       "<table border=\"1\" class=\"dataframe\">\n",
       "  <thead>\n",
       "    <tr style=\"text-align: right;\">\n",
       "      <th></th>\n",
       "      <th>Job Title</th>\n",
       "      <th>Position Duration</th>\n",
       "      <th>Position Location</th>\n",
       "      <th>Job Description</th>\n",
       "      <th>Job Responsibilities</th>\n",
       "      <th>Required Qualifications</th>\n",
       "      <th>Remuneration</th>\n",
       "      <th>Application Deadline</th>\n",
       "      <th>About Company</th>\n",
       "      <th>Clean Job Responsibilities</th>\n",
       "      <th>Duration</th>\n",
       "      <th>finger_print</th>\n",
       "      <th>Extra Clean Job Responsibilities</th>\n",
       "      <th>label</th>\n",
       "    </tr>\n",
       "  </thead>\n",
       "  <tbody>\n",
       "    <tr>\n",
       "      <th>13790</th>\n",
       "      <td>Head of Financial Reporting Unit</td>\n",
       "      <td>Long-term, with 3 months probation period</td>\n",
       "      <td>Yerevan, Armenia</td>\n",
       "      <td>Ucom LLC is seeking a successful candidate who...</td>\n",
       "      <td>- Develop and maintain timely and accurate fin...</td>\n",
       "      <td>- University degree in Finance or Accounting;\\...</td>\n",
       "      <td>Competetive</td>\n",
       "      <td>30 May 2013</td>\n",
       "      <td>\"Ucom\" telecom company provides network and ot...</td>\n",
       "      <td>- develop maintain timely accurate financial s...</td>\n",
       "      <td>Long-term, with 3 months probation period</td>\n",
       "      <td>[0.0, 0.0, 0.0, 0.0, 0.0, 0.0, 0.0, 1.0, 1.0, ...</td>\n",
       "      <td>develop maintain timely accurate financial sta...</td>\n",
       "      <td>1</td>\n",
       "    </tr>\n",
       "    <tr>\n",
       "      <th>10447</th>\n",
       "      <td>Fashion Buyer</td>\n",
       "      <td>NaN</td>\n",
       "      <td>Yerevan, Armenia</td>\n",
       "      <td>SAS Group is seeking a Fashion Buyer to analyz...</td>\n",
       "      <td>- Research current fashion trends, the industr...</td>\n",
       "      <td>- Master's degree in Retail, Buying, Marketing...</td>\n",
       "      <td>NaN</td>\n",
       "      <td>06 November 2011</td>\n",
       "      <td>NaN</td>\n",
       "      <td>- research current fashion trend , industry , ...</td>\n",
       "      <td>this is a custom message</td>\n",
       "      <td>[0.0, 0.0, 0.0, 1.0, 0.0, 0.0, 0.0, 1.0, 1.0, ...</td>\n",
       "      <td>research current fashion trend industry people...</td>\n",
       "      <td>1</td>\n",
       "    </tr>\n",
       "    <tr>\n",
       "      <th>7464</th>\n",
       "      <td>PR Specialist</td>\n",
       "      <td>Long term</td>\n",
       "      <td>Yerevan, Armenia</td>\n",
       "      <td>NaN</td>\n",
       "      <td>- Maintain and manage the image and reputation...</td>\n",
       "      <td>- At least 2 year experience in PR; \\r\\r\\r\\n- ...</td>\n",
       "      <td>NaN</td>\n",
       "      <td>25 November 2009</td>\n",
       "      <td>NaN</td>\n",
       "      <td>- maintain manage image reputation woman right...</td>\n",
       "      <td>Long term</td>\n",
       "      <td>[0.0, 0.0, 0.0, 0.0, 0.0, 0.0, 0.0, 1.0, 1.0, ...</td>\n",
       "      <td>maintain manage image reputation woman right c...</td>\n",
       "      <td>1</td>\n",
       "    </tr>\n",
       "    <tr>\n",
       "      <th>18081</th>\n",
       "      <td>Program Manager for Data Initiative (PMDI)</td>\n",
       "      <td>Long-term with 3 months of probation period.</td>\n",
       "      <td>Yerevan, Armenia</td>\n",
       "      <td>CRRC-Armenia is seeking a Program Manager for ...</td>\n",
       "      <td>- Manage the CRRC Caucasus Barometer and other...</td>\n",
       "      <td>- Strong background in Social Sciences; MA in ...</td>\n",
       "      <td>NaN</td>\n",
       "      <td>03 August 2015, COB</td>\n",
       "      <td>The Caucasus Research Resource Center-Armenia ...</td>\n",
       "      <td>- manage crrc caucasus barometer primary data ...</td>\n",
       "      <td>Long-term with 3 months of probation period.</td>\n",
       "      <td>[0.0, 0.0, 0.0, 0.0, 0.0, 0.0, 0.0, 1.0, 1.0, ...</td>\n",
       "      <td>manage crrc caucasus barometer primary data co...</td>\n",
       "      <td>1</td>\n",
       "    </tr>\n",
       "    <tr>\n",
       "      <th>2436</th>\n",
       "      <td>Online Marketing Administrator</td>\n",
       "      <td>Long term</td>\n",
       "      <td>Yerevan, Armenia</td>\n",
       "      <td>NaN</td>\n",
       "      <td>- Buy online media;\\r\\r\\r\\n- Organize creative...</td>\n",
       "      <td>- College or university degree, preferably in ...</td>\n",
       "      <td>Attractive. Based on experience. Plus free lun...</td>\n",
       "      <td>10 June 2006</td>\n",
       "      <td>APG Enterprises is a Canadian IT company.\\r\\r\\r\\n</td>\n",
       "      <td>- buy online medium ; - organize creatives pay...</td>\n",
       "      <td>Long term</td>\n",
       "      <td>[0.0, 0.0, 0.0, 0.0, 0.0, 0.0, 0.0, 1.0, 0.0, ...</td>\n",
       "      <td>buy online medium organize creatives payment m...</td>\n",
       "      <td>1</td>\n",
       "    </tr>\n",
       "  </tbody>\n",
       "</table>\n",
       "</div>"
      ],
      "text/plain": [
       "                                        Job Title  \\\n",
       "13790            Head of Financial Reporting Unit   \n",
       "10447                               Fashion Buyer   \n",
       "7464                                PR Specialist   \n",
       "18081  Program Manager for Data Initiative (PMDI)   \n",
       "2436               Online Marketing Administrator   \n",
       "\n",
       "                                  Position Duration Position Location  \\\n",
       "13790     Long-term, with 3 months probation period  Yerevan, Armenia   \n",
       "10447                                           NaN  Yerevan, Armenia   \n",
       "7464                                      Long term  Yerevan, Armenia   \n",
       "18081  Long-term with 3 months of probation period.  Yerevan, Armenia   \n",
       "2436                                      Long term  Yerevan, Armenia   \n",
       "\n",
       "                                         Job Description  \\\n",
       "13790  Ucom LLC is seeking a successful candidate who...   \n",
       "10447  SAS Group is seeking a Fashion Buyer to analyz...   \n",
       "7464                                                 NaN   \n",
       "18081  CRRC-Armenia is seeking a Program Manager for ...   \n",
       "2436                                                 NaN   \n",
       "\n",
       "                                    Job Responsibilities  \\\n",
       "13790  - Develop and maintain timely and accurate fin...   \n",
       "10447  - Research current fashion trends, the industr...   \n",
       "7464   - Maintain and manage the image and reputation...   \n",
       "18081  - Manage the CRRC Caucasus Barometer and other...   \n",
       "2436   - Buy online media;\\r\\r\\r\\n- Organize creative...   \n",
       "\n",
       "                                 Required Qualifications  \\\n",
       "13790  - University degree in Finance or Accounting;\\...   \n",
       "10447  - Master's degree in Retail, Buying, Marketing...   \n",
       "7464   - At least 2 year experience in PR; \\r\\r\\r\\n- ...   \n",
       "18081  - Strong background in Social Sciences; MA in ...   \n",
       "2436   - College or university degree, preferably in ...   \n",
       "\n",
       "                                            Remuneration Application Deadline  \\\n",
       "13790                                        Competetive          30 May 2013   \n",
       "10447                                                NaN     06 November 2011   \n",
       "7464                                                 NaN     25 November 2009   \n",
       "18081                                                NaN  03 August 2015, COB   \n",
       "2436   Attractive. Based on experience. Plus free lun...         10 June 2006   \n",
       "\n",
       "                                           About Company  \\\n",
       "13790  \"Ucom\" telecom company provides network and ot...   \n",
       "10447                                                NaN   \n",
       "7464                                                 NaN   \n",
       "18081  The Caucasus Research Resource Center-Armenia ...   \n",
       "2436   APG Enterprises is a Canadian IT company.\\r\\r\\r\\n   \n",
       "\n",
       "                              Clean Job Responsibilities  \\\n",
       "13790  - develop maintain timely accurate financial s...   \n",
       "10447  - research current fashion trend , industry , ...   \n",
       "7464   - maintain manage image reputation woman right...   \n",
       "18081  - manage crrc caucasus barometer primary data ...   \n",
       "2436   - buy online medium ; - organize creatives pay...   \n",
       "\n",
       "                                           Duration  \\\n",
       "13790     Long-term, with 3 months probation period   \n",
       "10447                      this is a custom message   \n",
       "7464                                      Long term   \n",
       "18081  Long-term with 3 months of probation period.   \n",
       "2436                                      Long term   \n",
       "\n",
       "                                            finger_print  \\\n",
       "13790  [0.0, 0.0, 0.0, 0.0, 0.0, 0.0, 0.0, 1.0, 1.0, ...   \n",
       "10447  [0.0, 0.0, 0.0, 1.0, 0.0, 0.0, 0.0, 1.0, 1.0, ...   \n",
       "7464   [0.0, 0.0, 0.0, 0.0, 0.0, 0.0, 0.0, 1.0, 1.0, ...   \n",
       "18081  [0.0, 0.0, 0.0, 0.0, 0.0, 0.0, 0.0, 1.0, 1.0, ...   \n",
       "2436   [0.0, 0.0, 0.0, 0.0, 0.0, 0.0, 0.0, 1.0, 0.0, ...   \n",
       "\n",
       "                        Extra Clean Job Responsibilities  label  \n",
       "13790  develop maintain timely accurate financial sta...      1  \n",
       "10447  research current fashion trend industry people...      1  \n",
       "7464   maintain manage image reputation woman right c...      1  \n",
       "18081  manage crrc caucasus barometer primary data co...      1  \n",
       "2436   buy online medium organize creatives payment m...      1  "
      ]
     },
     "execution_count": 13,
     "metadata": {},
     "output_type": "execute_result"
    }
   ],
   "source": [
    "q2_df\\\n",
    " .query('label == @group_summary.index[0]')\\\n",
    " .sample(5)"
   ]
  },
  {
   "cell_type": "code",
   "execution_count": 14,
   "metadata": {},
   "outputs": [
    {
     "data": {
      "text/html": [
       "<div>\n",
       "<style scoped>\n",
       "    .dataframe tbody tr th:only-of-type {\n",
       "        vertical-align: middle;\n",
       "    }\n",
       "\n",
       "    .dataframe tbody tr th {\n",
       "        vertical-align: top;\n",
       "    }\n",
       "\n",
       "    .dataframe thead th {\n",
       "        text-align: right;\n",
       "    }\n",
       "</style>\n",
       "<table border=\"1\" class=\"dataframe\">\n",
       "  <thead>\n",
       "    <tr style=\"text-align: right;\">\n",
       "      <th></th>\n",
       "      <th>Job Title</th>\n",
       "      <th>Position Duration</th>\n",
       "      <th>Position Location</th>\n",
       "      <th>Job Description</th>\n",
       "      <th>Job Responsibilities</th>\n",
       "      <th>Required Qualifications</th>\n",
       "      <th>Remuneration</th>\n",
       "      <th>Application Deadline</th>\n",
       "      <th>About Company</th>\n",
       "      <th>Clean Job Responsibilities</th>\n",
       "      <th>Duration</th>\n",
       "      <th>finger_print</th>\n",
       "      <th>Extra Clean Job Responsibilities</th>\n",
       "      <th>label</th>\n",
       "    </tr>\n",
       "  </thead>\n",
       "  <tbody>\n",
       "    <tr>\n",
       "      <th>16079</th>\n",
       "      <td>Senior C/ C++ Developer</td>\n",
       "      <td>Long term</td>\n",
       "      <td>Yerevan, Armenia</td>\n",
       "      <td>Zangi Livecom is looking for a Senior C/ C++ D...</td>\n",
       "      <td>- Responsible for development of different sol...</td>\n",
       "      <td>- At least 3 years of work experience in Devel...</td>\n",
       "      <td>Highly competitive and number of tempting\\r\\r\\...</td>\n",
       "      <td>06 August 2014</td>\n",
       "      <td>Zangi Livecom is a new generation telecommunic...</td>\n",
       "      <td>- responsible development different solution m...</td>\n",
       "      <td>Long term</td>\n",
       "      <td>[0.0, 0.0, 0.0, 0.0, 0.0, 0.0, 0.0, 1.0, 0.0, ...</td>\n",
       "      <td>responsible development different solution mob...</td>\n",
       "      <td>0</td>\n",
       "    </tr>\n",
       "    <tr>\n",
       "      <th>18605</th>\n",
       "      <td>IT Assistant</td>\n",
       "      <td>Long-term</td>\n",
       "      <td>Yerevan, Armenia</td>\n",
       "      <td>The IT Assistant will manage POS, Network and ...</td>\n",
       "      <td>- Responsible for the store support for infini...</td>\n",
       "      <td>Soft Skills:\\r\\r\\r\\n- Excellent analytical and...</td>\n",
       "      <td>Competitive depending on the previous experien...</td>\n",
       "      <td>05 November 2015</td>\n",
       "      <td>RGAM Retail Group Armenia is a member of the A...</td>\n",
       "      <td>- responsible store support infinity itx po ; ...</td>\n",
       "      <td>Long-term</td>\n",
       "      <td>[0.0, 0.0, 1.0, 1.0, 0.0, 0.0, 1.0, 1.0, 1.0, ...</td>\n",
       "      <td>responsible store support infinity itx po upda...</td>\n",
       "      <td>0</td>\n",
       "    </tr>\n",
       "    <tr>\n",
       "      <th>7468</th>\n",
       "      <td>Revenue Assurance Specialist</td>\n",
       "      <td>One year renewable with three month probation ...</td>\n",
       "      <td>Yerevan, Armenia</td>\n",
       "      <td>The Revenue Assurance Specialist will be respo...</td>\n",
       "      <td>- Compare different data sources to ensure dat...</td>\n",
       "      <td>- BS or MA in computer and communication engin...</td>\n",
       "      <td>Competitive compensation including various\\r\\r...</td>\n",
       "      <td>25 November 2009</td>\n",
       "      <td>VivaCell-MTS is the leading mobile operator of...</td>\n",
       "      <td>- compare different data source ensure data co...</td>\n",
       "      <td>One year renewable with three month probation ...</td>\n",
       "      <td>[0.0, 0.0, 0.0, 0.0, 0.0, 0.0, 0.0, 1.0, 1.0, ...</td>\n",
       "      <td>compare different data source ensure data cons...</td>\n",
       "      <td>0</td>\n",
       "    </tr>\n",
       "    <tr>\n",
       "      <th>18719</th>\n",
       "      <td>Android Developer</td>\n",
       "      <td>Long-term</td>\n",
       "      <td>Yerevan, Armenia</td>\n",
       "      <td>VOLO is looking for experienced result-oriente...</td>\n",
       "      <td>- Design, develop, test, deploy, maintain and ...</td>\n",
       "      <td>- Excellent knowledge of Java and OOP concepts...</td>\n",
       "      <td>Competitive depending on the previous experien...</td>\n",
       "      <td>05 December 2015</td>\n",
       "      <td>VOLO LLC is an IT innovative solutions provide...</td>\n",
       "      <td>- design , develop , test , deploy , maintain ...</td>\n",
       "      <td>Long-term</td>\n",
       "      <td>[0.0, 1.0, 0.0, 1.0, 0.0, 0.0, 0.0, 1.0, 1.0, ...</td>\n",
       "      <td>design develop test deploy maintain enhance so...</td>\n",
       "      <td>0</td>\n",
       "    </tr>\n",
       "    <tr>\n",
       "      <th>725</th>\n",
       "      <td>Database programmer</td>\n",
       "      <td>NaN</td>\n",
       "      <td>Yerevan, Armenia</td>\n",
       "      <td>NaN</td>\n",
       "      <td>Database development:\\r\\r\\r\\n- Writing stored ...</td>\n",
       "      <td>- Candidate must have experience on working wi...</td>\n",
       "      <td>NaN</td>\n",
       "      <td>25 November 2004</td>\n",
       "      <td>NaN</td>\n",
       "      <td>database development : - write store procedure...</td>\n",
       "      <td>this is a custom message</td>\n",
       "      <td>[1.0, 0.0, 1.0, 1.0, 0.0, 0.0, 0.0, 1.0, 1.0, ...</td>\n",
       "      <td>database development write store procedure tri...</td>\n",
       "      <td>0</td>\n",
       "    </tr>\n",
       "  </tbody>\n",
       "</table>\n",
       "</div>"
      ],
      "text/plain": [
       "                          Job Title  \\\n",
       "16079       Senior C/ C++ Developer   \n",
       "18605                  IT Assistant   \n",
       "7468   Revenue Assurance Specialist   \n",
       "18719             Android Developer   \n",
       "725             Database programmer   \n",
       "\n",
       "                                       Position Duration Position Location  \\\n",
       "16079                                          Long term  Yerevan, Armenia   \n",
       "18605                                          Long-term  Yerevan, Armenia   \n",
       "7468   One year renewable with three month probation ...  Yerevan, Armenia   \n",
       "18719                                          Long-term  Yerevan, Armenia   \n",
       "725                                                  NaN  Yerevan, Armenia   \n",
       "\n",
       "                                         Job Description  \\\n",
       "16079  Zangi Livecom is looking for a Senior C/ C++ D...   \n",
       "18605  The IT Assistant will manage POS, Network and ...   \n",
       "7468   The Revenue Assurance Specialist will be respo...   \n",
       "18719  VOLO is looking for experienced result-oriente...   \n",
       "725                                                  NaN   \n",
       "\n",
       "                                    Job Responsibilities  \\\n",
       "16079  - Responsible for development of different sol...   \n",
       "18605  - Responsible for the store support for infini...   \n",
       "7468   - Compare different data sources to ensure dat...   \n",
       "18719  - Design, develop, test, deploy, maintain and ...   \n",
       "725    Database development:\\r\\r\\r\\n- Writing stored ...   \n",
       "\n",
       "                                 Required Qualifications  \\\n",
       "16079  - At least 3 years of work experience in Devel...   \n",
       "18605  Soft Skills:\\r\\r\\r\\n- Excellent analytical and...   \n",
       "7468   - BS or MA in computer and communication engin...   \n",
       "18719  - Excellent knowledge of Java and OOP concepts...   \n",
       "725    - Candidate must have experience on working wi...   \n",
       "\n",
       "                                            Remuneration Application Deadline  \\\n",
       "16079  Highly competitive and number of tempting\\r\\r\\...       06 August 2014   \n",
       "18605  Competitive depending on the previous experien...     05 November 2015   \n",
       "7468   Competitive compensation including various\\r\\r...     25 November 2009   \n",
       "18719  Competitive depending on the previous experien...     05 December 2015   \n",
       "725                                                  NaN     25 November 2004   \n",
       "\n",
       "                                           About Company  \\\n",
       "16079  Zangi Livecom is a new generation telecommunic...   \n",
       "18605  RGAM Retail Group Armenia is a member of the A...   \n",
       "7468   VivaCell-MTS is the leading mobile operator of...   \n",
       "18719  VOLO LLC is an IT innovative solutions provide...   \n",
       "725                                                  NaN   \n",
       "\n",
       "                              Clean Job Responsibilities  \\\n",
       "16079  - responsible development different solution m...   \n",
       "18605  - responsible store support infinity itx po ; ...   \n",
       "7468   - compare different data source ensure data co...   \n",
       "18719  - design , develop , test , deploy , maintain ...   \n",
       "725    database development : - write store procedure...   \n",
       "\n",
       "                                                Duration  \\\n",
       "16079                                          Long term   \n",
       "18605                                          Long-term   \n",
       "7468   One year renewable with three month probation ...   \n",
       "18719                                          Long-term   \n",
       "725                             this is a custom message   \n",
       "\n",
       "                                            finger_print  \\\n",
       "16079  [0.0, 0.0, 0.0, 0.0, 0.0, 0.0, 0.0, 1.0, 0.0, ...   \n",
       "18605  [0.0, 0.0, 1.0, 1.0, 0.0, 0.0, 1.0, 1.0, 1.0, ...   \n",
       "7468   [0.0, 0.0, 0.0, 0.0, 0.0, 0.0, 0.0, 1.0, 1.0, ...   \n",
       "18719  [0.0, 1.0, 0.0, 1.0, 0.0, 0.0, 0.0, 1.0, 1.0, ...   \n",
       "725    [1.0, 0.0, 1.0, 1.0, 0.0, 0.0, 0.0, 1.0, 1.0, ...   \n",
       "\n",
       "                        Extra Clean Job Responsibilities  label  \n",
       "16079  responsible development different solution mob...      0  \n",
       "18605  responsible store support infinity itx po upda...      0  \n",
       "7468   compare different data source ensure data cons...      0  \n",
       "18719  design develop test deploy maintain enhance so...      0  \n",
       "725    database development write store procedure tri...      0  "
      ]
     },
     "execution_count": 14,
     "metadata": {},
     "output_type": "execute_result"
    }
   ],
   "source": [
    "q2_df\\\n",
    " .query('label ==  @group_summary.index[1]')\\\n",
    " .sample(5)"
   ]
  },
  {
   "cell_type": "markdown",
   "metadata": {},
   "source": [
    "**Conclusion**:\n",
    "\n",
    "It looks like job ads that are classified as 1 tend to be jobs that require technical skills while those that are classified as 0 appear to require more soft skills.\n",
    "\n",
    "**Next steps**:\n",
    "\n",
    "Visualize the semantic fingerprints using some dimensionality reduction techniques (e.g. T-SNE, PCA) to determine if there are qualitatively better number of clusters."
   ]
  }
 ],
 "metadata": {
  "kernelspec": {
   "display_name": "Python 3",
   "language": "python",
   "name": "python3"
  },
  "language_info": {
   "codemirror_mode": {
    "name": "ipython",
    "version": 3
   },
   "file_extension": ".py",
   "mimetype": "text/x-python",
   "name": "python",
   "nbconvert_exporter": "python",
   "pygments_lexer": "ipython3",
   "version": "3.6.6"
  },
  "toc": {
   "nav_menu": {},
   "number_sections": true,
   "sideBar": true,
   "skip_h1_title": false,
   "toc_cell": true,
   "toc_position": {},
   "toc_section_display": "block",
   "toc_window_display": true
  }
 },
 "nbformat": 4,
 "nbformat_minor": 2
}
