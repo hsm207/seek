{
 "cells": [
  {
   "cell_type": "markdown",
   "metadata": {
    "toc": true
   },
   "source": [
    "<h1>Table of Contents<span class=\"tocSkip\"></span></h1>\n",
    "<div class=\"toc\" style=\"margin-top: 1em;\"><ul class=\"toc-item\"><li><span><a href=\"#Libraries\" data-toc-modified-id=\"Libraries-1\"><span class=\"toc-item-num\">1&nbsp;&nbsp;</span>Libraries</a></span></li><li><span><a href=\"#Question-2a\" data-toc-modified-id=\"Question-2a-2\"><span class=\"toc-item-num\">2&nbsp;&nbsp;</span>Question 2a</a></span></li><li><span><a href=\"#Question-2b\" data-toc-modified-id=\"Question-2b-3\"><span class=\"toc-item-num\">3&nbsp;&nbsp;</span>Question 2b</a></span></li><li><span><a href=\"#Question-2c\" data-toc-modified-id=\"Question-2c-4\"><span class=\"toc-item-num\">4&nbsp;&nbsp;</span>Question 2c</a></span></li><li><span><a href=\"#Question-2d\" data-toc-modified-id=\"Question-2d-5\"><span class=\"toc-item-num\">5&nbsp;&nbsp;</span>Question 2d</a></span></li><li><span><a href=\"#Question-2e\" data-toc-modified-id=\"Question-2e-6\"><span class=\"toc-item-num\">6&nbsp;&nbsp;</span>Question 2e</a></span></li><li><span><a href=\"#Question-2f\" data-toc-modified-id=\"Question-2f-7\"><span class=\"toc-item-num\">7&nbsp;&nbsp;</span>Question 2f</a></span></li><li><span><a href=\"#Question-2g\" data-toc-modified-id=\"Question-2g-8\"><span class=\"toc-item-num\">8&nbsp;&nbsp;</span>Question 2g</a></span></li><li><span><a href=\"#Question-2h\" data-toc-modified-id=\"Question-2h-9\"><span class=\"toc-item-num\">9&nbsp;&nbsp;</span>Question 2h</a></span></li></ul></div>"
   ]
  },
  {
   "cell_type": "markdown",
   "metadata": {},
   "source": [
    "# Libraries"
   ]
  },
  {
   "cell_type": "markdown",
   "metadata": {},
   "source": [
    "Load the required libraries:"
   ]
  },
  {
   "cell_type": "code",
   "execution_count": 1,
   "metadata": {},
   "outputs": [],
   "source": [
    "import pandas as pd\n",
    "import re\n",
    "from nltk import word_tokenize, WordNetLemmatizer\n",
    "from nltk.corpus import stopwords\n",
    "import boto3"
   ]
  },
  {
   "cell_type": "markdown",
   "metadata": {},
   "source": [
    "# Question 2a"
   ]
  },
  {
   "cell_type": "markdown",
   "metadata": {},
   "source": [
    "**Question**:"
   ]
  },
  {
   "cell_type": "markdown",
   "metadata": {},
   "source": [
    "![](./images/question2a.png)"
   ]
  },
  {
   "cell_type": "markdown",
   "metadata": {},
   "source": [
    "**Solution**:"
   ]
  },
  {
   "cell_type": "markdown",
   "metadata": {},
   "source": [
    "Assuming you have installed the [Kaggle API](https://github.com/Kaggle/kaggle-api):"
   ]
  },
  {
   "cell_type": "code",
   "execution_count": 2,
   "metadata": {},
   "outputs": [
    {
     "name": "stdout",
     "output_type": "stream",
     "text": [
      "Downloading jobposts.zip to ../datasets\n",
      "\n"
     ]
    },
    {
     "name": "stderr",
     "output_type": "stream",
     "text": [
      "\n",
      "  0%|          | 0.00/16.3M [00:00<?, ?B/s]\n",
      "  6%|6         | 1.00M/16.3M [00:00<00:07, 2.07MB/s]\n",
      " 12%|#2        | 2.00M/16.3M [00:00<00:07, 2.11MB/s]\n",
      " 18%|#8        | 3.00M/16.3M [00:01<00:06, 2.15MB/s]\n",
      " 25%|##4       | 4.00M/16.3M [00:01<00:05, 2.17MB/s]\n",
      " 31%|###       | 5.00M/16.3M [00:02<00:05, 2.17MB/s]\n",
      " 37%|###6      | 6.00M/16.3M [00:02<00:04, 2.23MB/s]\n",
      " 43%|####3     | 7.00M/16.3M [00:03<00:04, 2.25MB/s]\n",
      " 49%|####9     | 8.00M/16.3M [00:03<00:03, 2.25MB/s]\n",
      " 55%|#####5    | 9.00M/16.3M [00:04<00:03, 2.27MB/s]\n",
      " 61%|######1   | 10.0M/16.3M [00:04<00:02, 2.25MB/s]\n",
      " 68%|######7   | 11.0M/16.3M [00:05<00:02, 2.18MB/s]\n",
      " 74%|#######3  | 12.0M/16.3M [00:05<00:02, 2.14MB/s]\n",
      " 80%|#######9  | 13.0M/16.3M [00:06<00:01, 2.18MB/s]\n",
      " 86%|########6 | 14.0M/16.3M [00:06<00:01, 2.21MB/s]\n",
      " 92%|#########2| 15.0M/16.3M [00:07<00:00, 2.23MB/s]\n",
      " 98%|#########8| 16.0M/16.3M [00:07<00:00, 2.24MB/s]\n",
      "100%|##########| 16.3M/16.3M [00:07<00:00, 2.30MB/s]\n"
     ]
    }
   ],
   "source": [
    "!kaggle datasets download -d madhab/jobposts -p ../datasets/ --force"
   ]
  },
  {
   "cell_type": "markdown",
   "metadata": {},
   "source": [
    "# Question 2b"
   ]
  },
  {
   "cell_type": "markdown",
   "metadata": {},
   "source": [
    "**Question**:"
   ]
  },
  {
   "cell_type": "markdown",
   "metadata": {},
   "source": [
    "![](./images/question2b.png)"
   ]
  },
  {
   "cell_type": "markdown",
   "metadata": {},
   "source": [
    "**Solution**:"
   ]
  },
  {
   "cell_type": "markdown",
   "metadata": {},
   "source": [
    "Read the data `job posts.csv` file:"
   ]
  },
  {
   "cell_type": "code",
   "execution_count": 3,
   "metadata": {},
   "outputs": [
    {
     "data": {
      "text/html": [
       "<div>\n",
       "<style scoped>\n",
       "    .dataframe tbody tr th:only-of-type {\n",
       "        vertical-align: middle;\n",
       "    }\n",
       "\n",
       "    .dataframe tbody tr th {\n",
       "        vertical-align: top;\n",
       "    }\n",
       "\n",
       "    .dataframe thead th {\n",
       "        text-align: right;\n",
       "    }\n",
       "</style>\n",
       "<table border=\"1\" class=\"dataframe\">\n",
       "  <thead>\n",
       "    <tr style=\"text-align: right;\">\n",
       "      <th></th>\n",
       "      <th>jobpost</th>\n",
       "      <th>date</th>\n",
       "      <th>Title</th>\n",
       "      <th>Company</th>\n",
       "      <th>AnnouncementCode</th>\n",
       "      <th>Term</th>\n",
       "      <th>Eligibility</th>\n",
       "      <th>Audience</th>\n",
       "      <th>StartDate</th>\n",
       "      <th>Duration</th>\n",
       "      <th>...</th>\n",
       "      <th>Salary</th>\n",
       "      <th>ApplicationP</th>\n",
       "      <th>OpeningDate</th>\n",
       "      <th>Deadline</th>\n",
       "      <th>Notes</th>\n",
       "      <th>AboutC</th>\n",
       "      <th>Attach</th>\n",
       "      <th>Year</th>\n",
       "      <th>Month</th>\n",
       "      <th>IT</th>\n",
       "    </tr>\n",
       "  </thead>\n",
       "  <tbody>\n",
       "    <tr>\n",
       "      <th>0</th>\n",
       "      <td>AMERIA Investment Consulting Company\\r\\nJOB TI...</td>\n",
       "      <td>Jan 5, 2004</td>\n",
       "      <td>Chief Financial Officer</td>\n",
       "      <td>AMERIA Investment Consulting Company</td>\n",
       "      <td>NaN</td>\n",
       "      <td>NaN</td>\n",
       "      <td>NaN</td>\n",
       "      <td>NaN</td>\n",
       "      <td>NaN</td>\n",
       "      <td>NaN</td>\n",
       "      <td>...</td>\n",
       "      <td>NaN</td>\n",
       "      <td>To apply for this position, please submit a\\r\\...</td>\n",
       "      <td>NaN</td>\n",
       "      <td>26 January 2004</td>\n",
       "      <td>NaN</td>\n",
       "      <td>NaN</td>\n",
       "      <td>NaN</td>\n",
       "      <td>2004</td>\n",
       "      <td>1</td>\n",
       "      <td>False</td>\n",
       "    </tr>\n",
       "    <tr>\n",
       "      <th>1</th>\n",
       "      <td>International Research &amp; Exchanges Board (IREX...</td>\n",
       "      <td>Jan 7, 2004</td>\n",
       "      <td>Full-time Community Connections Intern (paid i...</td>\n",
       "      <td>International Research &amp; Exchanges Board (IREX)</td>\n",
       "      <td>NaN</td>\n",
       "      <td>NaN</td>\n",
       "      <td>NaN</td>\n",
       "      <td>NaN</td>\n",
       "      <td>NaN</td>\n",
       "      <td>3 months</td>\n",
       "      <td>...</td>\n",
       "      <td>NaN</td>\n",
       "      <td>Please submit a cover letter and resume to:\\r\\...</td>\n",
       "      <td>NaN</td>\n",
       "      <td>12 January 2004</td>\n",
       "      <td>NaN</td>\n",
       "      <td>The International Research &amp; Exchanges Board (...</td>\n",
       "      <td>NaN</td>\n",
       "      <td>2004</td>\n",
       "      <td>1</td>\n",
       "      <td>False</td>\n",
       "    </tr>\n",
       "    <tr>\n",
       "      <th>2</th>\n",
       "      <td>Caucasus Environmental NGO Network (CENN)\\r\\nJ...</td>\n",
       "      <td>Jan 7, 2004</td>\n",
       "      <td>Country Coordinator</td>\n",
       "      <td>Caucasus Environmental NGO Network (CENN)</td>\n",
       "      <td>NaN</td>\n",
       "      <td>NaN</td>\n",
       "      <td>NaN</td>\n",
       "      <td>NaN</td>\n",
       "      <td>NaN</td>\n",
       "      <td>Renewable annual contract\\r\\nPOSITION</td>\n",
       "      <td>...</td>\n",
       "      <td>NaN</td>\n",
       "      <td>Please send resume or CV toursula.kazarian@......</td>\n",
       "      <td>NaN</td>\n",
       "      <td>20 January 2004\\r\\nSTART DATE:  February 2004</td>\n",
       "      <td>NaN</td>\n",
       "      <td>The Caucasus Environmental NGO Network is a\\r\\...</td>\n",
       "      <td>NaN</td>\n",
       "      <td>2004</td>\n",
       "      <td>1</td>\n",
       "      <td>False</td>\n",
       "    </tr>\n",
       "    <tr>\n",
       "      <th>3</th>\n",
       "      <td>Manoff Group\\r\\nJOB TITLE:  BCC Specialist\\r\\n...</td>\n",
       "      <td>Jan 7, 2004</td>\n",
       "      <td>BCC Specialist</td>\n",
       "      <td>Manoff Group</td>\n",
       "      <td>NaN</td>\n",
       "      <td>NaN</td>\n",
       "      <td>NaN</td>\n",
       "      <td>NaN</td>\n",
       "      <td>NaN</td>\n",
       "      <td>NaN</td>\n",
       "      <td>...</td>\n",
       "      <td>NaN</td>\n",
       "      <td>Please send cover letter and resume to Amy\\r\\n...</td>\n",
       "      <td>NaN</td>\n",
       "      <td>23 January 2004\\r\\nSTART DATE:  Immediate</td>\n",
       "      <td>NaN</td>\n",
       "      <td>NaN</td>\n",
       "      <td>NaN</td>\n",
       "      <td>2004</td>\n",
       "      <td>1</td>\n",
       "      <td>False</td>\n",
       "    </tr>\n",
       "    <tr>\n",
       "      <th>4</th>\n",
       "      <td>Yerevan Brandy Company\\r\\nJOB TITLE:  Software...</td>\n",
       "      <td>Jan 10, 2004</td>\n",
       "      <td>Software Developer</td>\n",
       "      <td>Yerevan Brandy Company</td>\n",
       "      <td>NaN</td>\n",
       "      <td>NaN</td>\n",
       "      <td>NaN</td>\n",
       "      <td>NaN</td>\n",
       "      <td>NaN</td>\n",
       "      <td>NaN</td>\n",
       "      <td>...</td>\n",
       "      <td>NaN</td>\n",
       "      <td>Successful candidates should submit\\r\\n- CV; \\...</td>\n",
       "      <td>NaN</td>\n",
       "      <td>20 January 2004, 18:00</td>\n",
       "      <td>NaN</td>\n",
       "      <td>NaN</td>\n",
       "      <td>NaN</td>\n",
       "      <td>2004</td>\n",
       "      <td>1</td>\n",
       "      <td>True</td>\n",
       "    </tr>\n",
       "  </tbody>\n",
       "</table>\n",
       "<p>5 rows × 24 columns</p>\n",
       "</div>"
      ],
      "text/plain": [
       "                                             jobpost          date  \\\n",
       "0  AMERIA Investment Consulting Company\\r\\nJOB TI...   Jan 5, 2004   \n",
       "1  International Research & Exchanges Board (IREX...   Jan 7, 2004   \n",
       "2  Caucasus Environmental NGO Network (CENN)\\r\\nJ...   Jan 7, 2004   \n",
       "3  Manoff Group\\r\\nJOB TITLE:  BCC Specialist\\r\\n...   Jan 7, 2004   \n",
       "4  Yerevan Brandy Company\\r\\nJOB TITLE:  Software...  Jan 10, 2004   \n",
       "\n",
       "                                               Title  \\\n",
       "0                            Chief Financial Officer   \n",
       "1  Full-time Community Connections Intern (paid i...   \n",
       "2                                Country Coordinator   \n",
       "3                                     BCC Specialist   \n",
       "4                                 Software Developer   \n",
       "\n",
       "                                           Company AnnouncementCode Term  \\\n",
       "0             AMERIA Investment Consulting Company              NaN  NaN   \n",
       "1  International Research & Exchanges Board (IREX)              NaN  NaN   \n",
       "2        Caucasus Environmental NGO Network (CENN)              NaN  NaN   \n",
       "3                                     Manoff Group              NaN  NaN   \n",
       "4                           Yerevan Brandy Company              NaN  NaN   \n",
       "\n",
       "  Eligibility Audience StartDate                               Duration  \\\n",
       "0         NaN      NaN       NaN                                    NaN   \n",
       "1         NaN      NaN       NaN                               3 months   \n",
       "2         NaN      NaN       NaN  Renewable annual contract\\r\\nPOSITION   \n",
       "3         NaN      NaN       NaN                                    NaN   \n",
       "4         NaN      NaN       NaN                                    NaN   \n",
       "\n",
       "   ...   Salary                                       ApplicationP  \\\n",
       "0  ...      NaN  To apply for this position, please submit a\\r\\...   \n",
       "1  ...      NaN  Please submit a cover letter and resume to:\\r\\...   \n",
       "2  ...      NaN  Please send resume or CV toursula.kazarian@......   \n",
       "3  ...      NaN  Please send cover letter and resume to Amy\\r\\n...   \n",
       "4  ...      NaN  Successful candidates should submit\\r\\n- CV; \\...   \n",
       "\n",
       "  OpeningDate                                       Deadline Notes  \\\n",
       "0         NaN                                26 January 2004   NaN   \n",
       "1         NaN                                12 January 2004   NaN   \n",
       "2         NaN  20 January 2004\\r\\nSTART DATE:  February 2004   NaN   \n",
       "3         NaN      23 January 2004\\r\\nSTART DATE:  Immediate   NaN   \n",
       "4         NaN                         20 January 2004, 18:00   NaN   \n",
       "\n",
       "                                              AboutC Attach  Year Month     IT  \n",
       "0                                                NaN    NaN  2004     1  False  \n",
       "1  The International Research & Exchanges Board (...    NaN  2004     1  False  \n",
       "2  The Caucasus Environmental NGO Network is a\\r\\...    NaN  2004     1  False  \n",
       "3                                                NaN    NaN  2004     1  False  \n",
       "4                                                NaN    NaN  2004     1   True  \n",
       "\n",
       "[5 rows x 24 columns]"
      ]
     },
     "execution_count": 3,
     "metadata": {},
     "output_type": "execute_result"
    }
   ],
   "source": [
    "data_path = '../datasets/data job posts.csv'\n",
    "data_df = pd.read_csv(data_path)\n",
    "data_df.head()"
   ]
  },
  {
   "cell_type": "markdown",
   "metadata": {},
   "source": [
    "Define some constants to help with the extraction process:"
   ]
  },
  {
   "cell_type": "code",
   "execution_count": 4,
   "metadata": {},
   "outputs": [],
   "source": [
    "# semi-magical regex to extract all the sections in a jobpost\n",
    "SECTION_REGEX = r'(?:\\s|[0-9]\\. )?([A-Z /]+?[A-Z]{2}):'\n",
    "\n",
    "# fields that we care about\n",
    "target_fields = ['JOB TITLE', 'POSITION DURATION', 'POSITION LOCATION',\n",
    "                 'JOB DESCRIPTION', 'JOB RESPONSIBILITIES', 'REQUIRED QUALIFICATIONS',\n",
    "                 'REMUNERATION', 'APPLICATION DEADLINE', 'ABOUT COMPANY']\n",
    "\n",
    "# messed up variants of the fields that we care about\n",
    "messy_jobtitles = ['BranchTITLE',\n",
    "                   'CJSC TITLE',\n",
    "                   'CJSCTITLE',\n",
    "                   'JV LLCTITLE',\n",
    "                   'LLCTITLE',\n",
    "                   'OJSCTITLE',\n",
    "                   'PIUTITLE',\n",
    "                   'TITLE',\n",
    "                   'TechnologiesTITLE']\n",
    "\n",
    "messy_durations = ['PROJECT DURATION',\n",
    "                   'ASAPDURATION',\n",
    "                   'DURATION']\n",
    "\n",
    "messy_locations = ['LOCATION',\n",
    "                   'PROJECT LOCATION']\n",
    "\n",
    "messy_jobdesc = ['DESCRIPTION',\n",
    "                 'DISTINGUISHING FEATURES',\n",
    "                 'GRADE LEVEL',\n",
    "                 'BASIC FUNCTION OF THE POSITION',\n",
    "                 'NKRJOB DESCRIPTION']\n",
    "\n",
    "messy_jobres = ['RESPONSIBILITIES',\n",
    "                'N/AJOB RESPONSIBILITIES',\n",
    "                'N/A JOB RESPONSIBILITIES']\n",
    "\n",
    "messy_remuneration = ['REMUNERATION/ SALARY']\n",
    "messy_about_co = ['ABOUT',\n",
    "                  'CET ABOUT COMPANY']"
   ]
  },
  {
   "cell_type": "markdown",
   "metadata": {},
   "source": [
    "Define a function to correct the messy field names:"
   ]
  },
  {
   "cell_type": "code",
   "execution_count": 5,
   "metadata": {},
   "outputs": [],
   "source": [
    "def cleanup_fieldnames(fields, messy_names, clean_name):\n",
    "    messy_name = [k for k in fields.keys() if k in messy_names]\n",
    "    if messy_name:\n",
    "        assert len(messy_name) == 1, f'Expected to find only 1 messy name from {messy_names} ' \\\n",
    "                                     f'but found {len(messy_name)}!'\n",
    "\n",
    "        fields[clean_name] = fields.pop(messy_name[0])\n",
    "\n",
    "    return fields"
   ]
  },
  {
   "cell_type": "markdown",
   "metadata": {},
   "source": [
    "Define a function to perform the extraction:"
   ]
  },
  {
   "cell_type": "code",
   "execution_count": 6,
   "metadata": {},
   "outputs": [],
   "source": [
    "def extract_fields(jobpost):\n",
    "    values = re.split(SECTION_REGEX, jobpost)\n",
    "\n",
    "    # assume the first element in values is always company name\n",
    "    val_iter = iter(values[1:])\n",
    "\n",
    "    fields_dict = {section: [detail.strip()] for section, detail in zip(val_iter, val_iter)}\n",
    "    fields_dict = cleanup_fieldnames(fields_dict, messy_jobtitles, 'JOB TITLE')\n",
    "\n",
    "    fields_dict = cleanup_fieldnames(fields_dict, messy_durations, 'POSITION DURATION')\n",
    "    fields_dict = cleanup_fieldnames(fields_dict, messy_locations, 'POSITION LOCATION')\n",
    "\n",
    "    fields_dict = cleanup_fieldnames(fields_dict, messy_jobdesc, 'JOB DESCRIPTION')\n",
    "    fields_dict = cleanup_fieldnames(fields_dict, messy_jobres, 'JOB RESPONSIBILITIES')\n",
    "\n",
    "    fields_dict = cleanup_fieldnames(fields_dict, messy_remuneration, 'REMUNERATION')\n",
    "    fields_dict = cleanup_fieldnames(fields_dict, messy_about_co, 'ABOUT COMPANY')\n",
    "\n",
    "    for target_field in target_fields:\n",
    "        if target_field not in fields_dict:\n",
    "            fields_dict[target_field] = ['']\n",
    "\n",
    "    jobpost_df = pd.DataFrame.from_dict(fields_dict)\n",
    "    jobpost_df = jobpost_df.loc[:, target_fields]\n",
    "    return jobpost_df"
   ]
  },
  {
   "cell_type": "markdown",
   "metadata": {},
   "source": [
    "Define a function to perform some postprocessing after the fields are extracted:"
   ]
  },
  {
   "cell_type": "code",
   "execution_count": 7,
   "metadata": {},
   "outputs": [],
   "source": [
    "def postprocess_fields(extract_df):\n",
    "    extract_df['ABOUT COMPANY'] = extract_df['ABOUT COMPANY'].apply(lambda text: text.split('--')[0])\n",
    "    extract_df['APPLICATION DEADLINE'] = extract_df['APPLICATION DEADLINE'] \\\n",
    "        .apply(lambda text: re.split(r'\\r\\n', text)[0]) \\\n",
    "        .apply(lambda text: text.split('--')[0])\n",
    "\n",
    "    new_column_names = {colname: colname.title() for colname in extract_df.columns}\n",
    "    extract_df = extract_df.rename(index=str, columns=new_column_names)\n",
    "\n",
    "    return extract_df"
   ]
  },
  {
   "cell_type": "markdown",
   "metadata": {},
   "source": [
    "Perform the extraction:"
   ]
  },
  {
   "cell_type": "code",
   "execution_count": 8,
   "metadata": {},
   "outputs": [
    {
     "name": "stdout",
     "output_type": "stream",
     "text": [
      "Wall time: 2min\n"
     ]
    }
   ],
   "source": [
    "%%time\n",
    "\n",
    "jobposts = data_df['jobpost']\n",
    "\n",
    "extracted_fields = jobposts.apply(extract_fields)\n",
    "\n",
    "# present the extracted fields in a single dataframe\n",
    "extract_df = extracted_fields[0]\n",
    "\n",
    "for r in extracted_fields[1:]:\n",
    "    extract_df = pd.concat([extract_df, r])\n",
    "    \n",
    "extract_df = postprocess_fields(extract_df)"
   ]
  },
  {
   "cell_type": "markdown",
   "metadata": {},
   "source": [
    "Preview the extracted fields:"
   ]
  },
  {
   "cell_type": "code",
   "execution_count": 9,
   "metadata": {},
   "outputs": [
    {
     "data": {
      "text/html": [
       "<div>\n",
       "<style scoped>\n",
       "    .dataframe tbody tr th:only-of-type {\n",
       "        vertical-align: middle;\n",
       "    }\n",
       "\n",
       "    .dataframe tbody tr th {\n",
       "        vertical-align: top;\n",
       "    }\n",
       "\n",
       "    .dataframe thead th {\n",
       "        text-align: right;\n",
       "    }\n",
       "</style>\n",
       "<table border=\"1\" class=\"dataframe\">\n",
       "  <thead>\n",
       "    <tr style=\"text-align: right;\">\n",
       "      <th></th>\n",
       "      <th>Job Title</th>\n",
       "      <th>Position Duration</th>\n",
       "      <th>Position Location</th>\n",
       "      <th>Job Description</th>\n",
       "      <th>Job Responsibilities</th>\n",
       "      <th>Required Qualifications</th>\n",
       "      <th>Remuneration</th>\n",
       "      <th>Application Deadline</th>\n",
       "      <th>About Company</th>\n",
       "    </tr>\n",
       "  </thead>\n",
       "  <tbody>\n",
       "    <tr>\n",
       "      <th>0</th>\n",
       "      <td>Chief Financial Officer</td>\n",
       "      <td></td>\n",
       "      <td>Yerevan, Armenia</td>\n",
       "      <td>AMERIA Investment Consulting Company is seekin...</td>\n",
       "      <td>- Supervises financial management and administ...</td>\n",
       "      <td>To perform this job successfully, an\\r\\nindivi...</td>\n",
       "      <td></td>\n",
       "      <td>26 January 2004</td>\n",
       "      <td></td>\n",
       "    </tr>\n",
       "    <tr>\n",
       "      <th>0</th>\n",
       "      <td>Full-time Community Connections Intern (paid i...</td>\n",
       "      <td>3 months</td>\n",
       "      <td>IREX Armenia Main Office; Yerevan, Armenia</td>\n",
       "      <td>IREX currently seeks to fill the position of a...</td>\n",
       "      <td>- Presenting the CC program to interested part...</td>\n",
       "      <td>- Bachelor's Degree; Master's is preferred;\\r\\...</td>\n",
       "      <td>Commensurate with experience.</td>\n",
       "      <td>12 January 2004</td>\n",
       "      <td>The International Research &amp; Exchanges Board (...</td>\n",
       "    </tr>\n",
       "    <tr>\n",
       "      <th>0</th>\n",
       "      <td>Country Coordinator</td>\n",
       "      <td>Renewable annual contract</td>\n",
       "      <td>Yerevan, Armenia</td>\n",
       "      <td>Public outreach and strengthening of a growing...</td>\n",
       "      <td>- Working with the Country Director to provide...</td>\n",
       "      <td>- Degree in environmentally related field, or ...</td>\n",
       "      <td>Salary commensurate with experience.</td>\n",
       "      <td>20 January 2004</td>\n",
       "      <td>The Caucasus Environmental NGO Network is a\\r\\...</td>\n",
       "    </tr>\n",
       "    <tr>\n",
       "      <th>0</th>\n",
       "      <td>BCC Specialist</td>\n",
       "      <td></td>\n",
       "      <td>Manila, Philippines</td>\n",
       "      <td>The LEAD (Local Enhancement and Development fo...</td>\n",
       "      <td>- Identify gaps in knowledge and overseeing in...</td>\n",
       "      <td>- Advanced degree in public health, social sci...</td>\n",
       "      <td></td>\n",
       "      <td>23 January 2004</td>\n",
       "      <td></td>\n",
       "    </tr>\n",
       "    <tr>\n",
       "      <th>0</th>\n",
       "      <td>Software Developer</td>\n",
       "      <td></td>\n",
       "      <td>Yerevan, Armenia</td>\n",
       "      <td></td>\n",
       "      <td>- Rendering technical assistance to Database M...</td>\n",
       "      <td>- University degree; economical background is ...</td>\n",
       "      <td>Will be commensurate with the norms accepted i...</td>\n",
       "      <td>20 January 2004, 18:00</td>\n",
       "      <td></td>\n",
       "    </tr>\n",
       "  </tbody>\n",
       "</table>\n",
       "</div>"
      ],
      "text/plain": [
       "                                           Job Title  \\\n",
       "0                            Chief Financial Officer   \n",
       "0  Full-time Community Connections Intern (paid i...   \n",
       "0                                Country Coordinator   \n",
       "0                                     BCC Specialist   \n",
       "0                                 Software Developer   \n",
       "\n",
       "           Position Duration                           Position Location  \\\n",
       "0                                                       Yerevan, Armenia   \n",
       "0                   3 months  IREX Armenia Main Office; Yerevan, Armenia   \n",
       "0  Renewable annual contract                            Yerevan, Armenia   \n",
       "0                                                    Manila, Philippines   \n",
       "0                                                       Yerevan, Armenia   \n",
       "\n",
       "                                     Job Description  \\\n",
       "0  AMERIA Investment Consulting Company is seekin...   \n",
       "0  IREX currently seeks to fill the position of a...   \n",
       "0  Public outreach and strengthening of a growing...   \n",
       "0  The LEAD (Local Enhancement and Development fo...   \n",
       "0                                                      \n",
       "\n",
       "                                Job Responsibilities  \\\n",
       "0  - Supervises financial management and administ...   \n",
       "0  - Presenting the CC program to interested part...   \n",
       "0  - Working with the Country Director to provide...   \n",
       "0  - Identify gaps in knowledge and overseeing in...   \n",
       "0  - Rendering technical assistance to Database M...   \n",
       "\n",
       "                             Required Qualifications  \\\n",
       "0  To perform this job successfully, an\\r\\nindivi...   \n",
       "0  - Bachelor's Degree; Master's is preferred;\\r\\...   \n",
       "0  - Degree in environmentally related field, or ...   \n",
       "0  - Advanced degree in public health, social sci...   \n",
       "0  - University degree; economical background is ...   \n",
       "\n",
       "                                        Remuneration    Application Deadline  \\\n",
       "0                                                            26 January 2004   \n",
       "0                      Commensurate with experience.         12 January 2004   \n",
       "0               Salary commensurate with experience.         20 January 2004   \n",
       "0                                                            23 January 2004   \n",
       "0  Will be commensurate with the norms accepted i...  20 January 2004, 18:00   \n",
       "\n",
       "                                       About Company  \n",
       "0                                                     \n",
       "0  The International Research & Exchanges Board (...  \n",
       "0  The Caucasus Environmental NGO Network is a\\r\\...  \n",
       "0                                                     \n",
       "0                                                     "
      ]
     },
     "execution_count": 9,
     "metadata": {},
     "output_type": "execute_result"
    }
   ],
   "source": [
    "extract_df.head()"
   ]
  },
  {
   "cell_type": "markdown",
   "metadata": {},
   "source": [
    "# Question 2c"
   ]
  },
  {
   "cell_type": "markdown",
   "metadata": {},
   "source": [
    "**Question**:"
   ]
  },
  {
   "cell_type": "markdown",
   "metadata": {},
   "source": [
    "![](./images/question2c.png)"
   ]
  },
  {
   "cell_type": "markdown",
   "metadata": {},
   "source": [
    "**Solution**:"
   ]
  },
  {
   "cell_type": "code",
   "execution_count": 10,
   "metadata": {},
   "outputs": [
    {
     "data": {
      "text/plain": [
       "Company\n",
       "Mentor Graphics Development Services CJSC    83\n",
       "dtype: int64"
      ]
     },
     "execution_count": 10,
     "metadata": {},
     "output_type": "execute_result"
    }
   ],
   "source": [
    "past_two_years = data_df['Year'] >= 2014\n",
    "\n",
    "two_years_df = data_df[past_two_years]\n",
    "\n",
    "two_years_df\\\n",
    "    .groupby('Company')\\\n",
    "    .size()\\\n",
    "    .sort_values(ascending=False)\\\n",
    "    .head(1)"
   ]
  },
  {
   "cell_type": "markdown",
   "metadata": {},
   "source": [
    "The company with the most number of job ads in the past 2 years is Mentor Graphics Development Services CJS."
   ]
  },
  {
   "cell_type": "markdown",
   "metadata": {},
   "source": [
    "# Question 2d"
   ]
  },
  {
   "cell_type": "markdown",
   "metadata": {},
   "source": [
    "**Question**"
   ]
  },
  {
   "cell_type": "markdown",
   "metadata": {},
   "source": [
    "![](./images/question2d.png)"
   ]
  },
  {
   "cell_type": "markdown",
   "metadata": {},
   "source": [
    "**Solution**"
   ]
  },
  {
   "cell_type": "code",
   "execution_count": 11,
   "metadata": {},
   "outputs": [
    {
     "data": {
      "text/plain": [
       "Month\n",
       "3    1702\n",
       "dtype: int64"
      ]
     },
     "execution_count": 11,
     "metadata": {},
     "output_type": "execute_result"
    }
   ],
   "source": [
    "data_df\\\n",
    "    .groupby('Month')\\\n",
    "    .size()\\\n",
    "    .sort_values(ascending=False)\\\n",
    "    .head(1)"
   ]
  },
  {
   "cell_type": "markdown",
   "metadata": {},
   "source": [
    "The month with the largest number of job ads over the years is March."
   ]
  },
  {
   "cell_type": "markdown",
   "metadata": {},
   "source": [
    "# Question 2e"
   ]
  },
  {
   "cell_type": "markdown",
   "metadata": {},
   "source": [
    "**Question**"
   ]
  },
  {
   "cell_type": "markdown",
   "metadata": {},
   "source": [
    "![](./images/question2e.png)"
   ]
  },
  {
   "cell_type": "markdown",
   "metadata": {},
   "source": [
    "**Solution**"
   ]
  },
  {
   "cell_type": "markdown",
   "metadata": {},
   "source": [
    "Set up a list of stopwords and lemmatizer to convert the plural words to singular forms:"
   ]
  },
  {
   "cell_type": "code",
   "execution_count": 12,
   "metadata": {},
   "outputs": [],
   "source": [
    "eng_stopwords = stopwords.words('english')\n",
    "lemmatizer = WordNetLemmatizer()\n",
    "plural_to_singular = lambda word: lemmatizer.lemmatize(lemmatizer.lemmatize(word, 'n'), 'v')"
   ]
  },
  {
   "cell_type": "markdown",
   "metadata": {},
   "source": [
    "Define the function to perform the cleaning:"
   ]
  },
  {
   "cell_type": "code",
   "execution_count": 13,
   "metadata": {},
   "outputs": [],
   "source": [
    "def clean_text(text):\n",
    "    if isinstance(text, str):\n",
    "        tokens = word_tokenize(text)\n",
    "        cleaned_tokens = [plural_to_singular(token.lower()) for token in tokens if token not in eng_stopwords]\n",
    "        cleaned_text = ' '.join(cleaned_tokens)\n",
    "\n",
    "        return cleaned_text"
   ]
  },
  {
   "cell_type": "markdown",
   "metadata": {},
   "source": [
    "Perform the cleaning:"
   ]
  },
  {
   "cell_type": "code",
   "execution_count": 14,
   "metadata": {},
   "outputs": [
    {
     "data": {
      "text/plain": [
       "Index(['jobpost', 'date', 'Title', 'Company', 'AnnouncementCode', 'Term',\n",
       "       'Eligibility', 'Audience', 'StartDate', 'Duration', 'Location',\n",
       "       'JobDescription', 'JobRequirment', 'RequiredQual', 'Salary',\n",
       "       'ApplicationP', 'OpeningDate', 'Deadline', 'Notes', 'AboutC', 'Attach',\n",
       "       'Year', 'Month', 'IT'],\n",
       "      dtype='object')"
      ]
     },
     "execution_count": 14,
     "metadata": {},
     "output_type": "execute_result"
    }
   ],
   "source": [
    "data_df.columns"
   ]
  },
  {
   "cell_type": "code",
   "execution_count": 15,
   "metadata": {},
   "outputs": [
    {
     "name": "stdout",
     "output_type": "stream",
     "text": [
      "Wall time: 34.6 s\n"
     ]
    }
   ],
   "source": [
    "%%time\n",
    "\n",
    "extract_df['Clean Job Responsibilities'] = extract_df['Job Responsibilities'].apply(clean_text)"
   ]
  },
  {
   "cell_type": "markdown",
   "metadata": {},
   "source": [
    "# Question 2f"
   ]
  },
  {
   "cell_type": "markdown",
   "metadata": {},
   "source": [
    "**Question**"
   ]
  },
  {
   "cell_type": "markdown",
   "metadata": {},
   "source": [
    "![](./images/question2f.png)"
   ]
  },
  {
   "cell_type": "markdown",
   "metadata": {},
   "source": [
    "**Solution**"
   ]
  },
  {
   "cell_type": "markdown",
   "metadata": {},
   "source": [
    "Create a function that takes a column and a custom message and will replace the null/NA values in that column with the given custom message:"
   ]
  },
  {
   "cell_type": "code",
   "execution_count": 16,
   "metadata": {},
   "outputs": [],
   "source": [
    "def question2f_solution(column, custom_message):\n",
    "    return column.where(~column.isnull(), custom_message)"
   ]
  },
  {
   "cell_type": "markdown",
   "metadata": {},
   "source": [
    "Apply this function to the 'Duration' column and add it to `extract_df`:"
   ]
  },
  {
   "cell_type": "code",
   "execution_count": 17,
   "metadata": {},
   "outputs": [],
   "source": [
    "clean_duration_column = question2f_solution(data_df['Duration'], 'this is a custom message')\n",
    "extract_df = extract_df.assign(Duration = clean_duration_column.values)"
   ]
  },
  {
   "cell_type": "markdown",
   "metadata": {},
   "source": [
    "# Question 2g"
   ]
  },
  {
   "cell_type": "markdown",
   "metadata": {},
   "source": [
    "**Question**"
   ]
  },
  {
   "cell_type": "markdown",
   "metadata": {},
   "source": [
    "![](./images/question2g.png)"
   ]
  },
  {
   "cell_type": "markdown",
   "metadata": {},
   "source": [
    "**Solution**"
   ]
  },
  {
   "cell_type": "markdown",
   "metadata": {},
   "source": [
    "The results are stored in `extract_df`, like so:"
   ]
  },
  {
   "cell_type": "code",
   "execution_count": 18,
   "metadata": {},
   "outputs": [
    {
     "data": {
      "text/html": [
       "<div>\n",
       "<style scoped>\n",
       "    .dataframe tbody tr th:only-of-type {\n",
       "        vertical-align: middle;\n",
       "    }\n",
       "\n",
       "    .dataframe tbody tr th {\n",
       "        vertical-align: top;\n",
       "    }\n",
       "\n",
       "    .dataframe thead th {\n",
       "        text-align: right;\n",
       "    }\n",
       "</style>\n",
       "<table border=\"1\" class=\"dataframe\">\n",
       "  <thead>\n",
       "    <tr style=\"text-align: right;\">\n",
       "      <th></th>\n",
       "      <th>Job Title</th>\n",
       "      <th>Position Duration</th>\n",
       "      <th>Position Location</th>\n",
       "      <th>Job Description</th>\n",
       "      <th>Job Responsibilities</th>\n",
       "      <th>Required Qualifications</th>\n",
       "      <th>Remuneration</th>\n",
       "      <th>Application Deadline</th>\n",
       "      <th>About Company</th>\n",
       "      <th>Clean Job Responsibilities</th>\n",
       "      <th>Duration</th>\n",
       "    </tr>\n",
       "  </thead>\n",
       "  <tbody>\n",
       "    <tr>\n",
       "      <th>0</th>\n",
       "      <td>Chief Financial Officer</td>\n",
       "      <td></td>\n",
       "      <td>Yerevan, Armenia</td>\n",
       "      <td>AMERIA Investment Consulting Company is seekin...</td>\n",
       "      <td>- Supervises financial management and administ...</td>\n",
       "      <td>To perform this job successfully, an\\r\\nindivi...</td>\n",
       "      <td></td>\n",
       "      <td>26 January 2004</td>\n",
       "      <td></td>\n",
       "      <td>- supervise financial management administrativ...</td>\n",
       "      <td>this is a custom message</td>\n",
       "    </tr>\n",
       "    <tr>\n",
       "      <th>0</th>\n",
       "      <td>Full-time Community Connections Intern (paid i...</td>\n",
       "      <td>3 months</td>\n",
       "      <td>IREX Armenia Main Office; Yerevan, Armenia</td>\n",
       "      <td>IREX currently seeks to fill the position of a...</td>\n",
       "      <td>- Presenting the CC program to interested part...</td>\n",
       "      <td>- Bachelor's Degree; Master's is preferred;\\r\\...</td>\n",
       "      <td>Commensurate with experience.</td>\n",
       "      <td>12 January 2004</td>\n",
       "      <td>The International Research &amp; Exchanges Board (...</td>\n",
       "      <td>- present cc program interest party ; - assist...</td>\n",
       "      <td>3 months</td>\n",
       "    </tr>\n",
       "    <tr>\n",
       "      <th>0</th>\n",
       "      <td>Country Coordinator</td>\n",
       "      <td>Renewable annual contract</td>\n",
       "      <td>Yerevan, Armenia</td>\n",
       "      <td>Public outreach and strengthening of a growing...</td>\n",
       "      <td>- Working with the Country Director to provide...</td>\n",
       "      <td>- Degree in environmentally related field, or ...</td>\n",
       "      <td>Salary commensurate with experience.</td>\n",
       "      <td>20 January 2004</td>\n",
       "      <td>The Caucasus Environmental NGO Network is a\\r\\...</td>\n",
       "      <td>- work country director provide environmental ...</td>\n",
       "      <td>Renewable annual contract\\r\\nPOSITION</td>\n",
       "    </tr>\n",
       "    <tr>\n",
       "      <th>0</th>\n",
       "      <td>BCC Specialist</td>\n",
       "      <td></td>\n",
       "      <td>Manila, Philippines</td>\n",
       "      <td>The LEAD (Local Enhancement and Development fo...</td>\n",
       "      <td>- Identify gaps in knowledge and overseeing in...</td>\n",
       "      <td>- Advanced degree in public health, social sci...</td>\n",
       "      <td></td>\n",
       "      <td>23 January 2004</td>\n",
       "      <td></td>\n",
       "      <td>- identify gap knowledge oversee information c...</td>\n",
       "      <td>this is a custom message</td>\n",
       "    </tr>\n",
       "    <tr>\n",
       "      <th>0</th>\n",
       "      <td>Software Developer</td>\n",
       "      <td></td>\n",
       "      <td>Yerevan, Armenia</td>\n",
       "      <td></td>\n",
       "      <td>- Rendering technical assistance to Database M...</td>\n",
       "      <td>- University degree; economical background is ...</td>\n",
       "      <td>Will be commensurate with the norms accepted i...</td>\n",
       "      <td>20 January 2004, 18:00</td>\n",
       "      <td></td>\n",
       "      <td>- render technical assistance database managem...</td>\n",
       "      <td>this is a custom message</td>\n",
       "    </tr>\n",
       "  </tbody>\n",
       "</table>\n",
       "</div>"
      ],
      "text/plain": [
       "                                           Job Title  \\\n",
       "0                            Chief Financial Officer   \n",
       "0  Full-time Community Connections Intern (paid i...   \n",
       "0                                Country Coordinator   \n",
       "0                                     BCC Specialist   \n",
       "0                                 Software Developer   \n",
       "\n",
       "           Position Duration                           Position Location  \\\n",
       "0                                                       Yerevan, Armenia   \n",
       "0                   3 months  IREX Armenia Main Office; Yerevan, Armenia   \n",
       "0  Renewable annual contract                            Yerevan, Armenia   \n",
       "0                                                    Manila, Philippines   \n",
       "0                                                       Yerevan, Armenia   \n",
       "\n",
       "                                     Job Description  \\\n",
       "0  AMERIA Investment Consulting Company is seekin...   \n",
       "0  IREX currently seeks to fill the position of a...   \n",
       "0  Public outreach and strengthening of a growing...   \n",
       "0  The LEAD (Local Enhancement and Development fo...   \n",
       "0                                                      \n",
       "\n",
       "                                Job Responsibilities  \\\n",
       "0  - Supervises financial management and administ...   \n",
       "0  - Presenting the CC program to interested part...   \n",
       "0  - Working with the Country Director to provide...   \n",
       "0  - Identify gaps in knowledge and overseeing in...   \n",
       "0  - Rendering technical assistance to Database M...   \n",
       "\n",
       "                             Required Qualifications  \\\n",
       "0  To perform this job successfully, an\\r\\nindivi...   \n",
       "0  - Bachelor's Degree; Master's is preferred;\\r\\...   \n",
       "0  - Degree in environmentally related field, or ...   \n",
       "0  - Advanced degree in public health, social sci...   \n",
       "0  - University degree; economical background is ...   \n",
       "\n",
       "                                        Remuneration    Application Deadline  \\\n",
       "0                                                            26 January 2004   \n",
       "0                      Commensurate with experience.         12 January 2004   \n",
       "0               Salary commensurate with experience.         20 January 2004   \n",
       "0                                                            23 January 2004   \n",
       "0  Will be commensurate with the norms accepted i...  20 January 2004, 18:00   \n",
       "\n",
       "                                       About Company  \\\n",
       "0                                                      \n",
       "0  The International Research & Exchanges Board (...   \n",
       "0  The Caucasus Environmental NGO Network is a\\r\\...   \n",
       "0                                                      \n",
       "0                                                      \n",
       "\n",
       "                          Clean Job Responsibilities  \\\n",
       "0  - supervise financial management administrativ...   \n",
       "0  - present cc program interest party ; - assist...   \n",
       "0  - work country director provide environmental ...   \n",
       "0  - identify gap knowledge oversee information c...   \n",
       "0  - render technical assistance database managem...   \n",
       "\n",
       "                                Duration  \n",
       "0               this is a custom message  \n",
       "0                               3 months  \n",
       "0  Renewable annual contract\\r\\nPOSITION  \n",
       "0               this is a custom message  \n",
       "0               this is a custom message  "
      ]
     },
     "execution_count": 18,
     "metadata": {},
     "output_type": "execute_result"
    }
   ],
   "source": [
    "extract_df.head()"
   ]
  },
  {
   "cell_type": "markdown",
   "metadata": {},
   "source": [
    "Save the results for use in question 3:"
   ]
  },
  {
   "cell_type": "code",
   "execution_count": 19,
   "metadata": {},
   "outputs": [],
   "source": [
    "file_name = '../datasets/output_from_Q2.csv'\n",
    "extract_df.to_csv(file_name, index = False)"
   ]
  },
  {
   "cell_type": "markdown",
   "metadata": {},
   "source": [
    "# Question 2h"
   ]
  },
  {
   "cell_type": "markdown",
   "metadata": {},
   "source": [
    "**Question**"
   ]
  },
  {
   "cell_type": "markdown",
   "metadata": {},
   "source": [
    "![](./images/question2h.png)"
   ]
  },
  {
   "cell_type": "markdown",
   "metadata": {},
   "source": [
    "**Solution**"
   ]
  },
  {
   "cell_type": "markdown",
   "metadata": {},
   "source": [
    "Create an S3 client:"
   ]
  },
  {
   "cell_type": "code",
   "execution_count": 20,
   "metadata": {},
   "outputs": [],
   "source": [
    "s3 = boto3.client('s3')"
   ]
  },
  {
   "cell_type": "markdown",
   "metadata": {},
   "source": [
    "Create an S3 bucket:"
   ]
  },
  {
   "cell_type": "code",
   "execution_count": 21,
   "metadata": {},
   "outputs": [
    {
     "data": {
      "text/plain": [
       "{'ResponseMetadata': {'RequestId': '9C30C88070D47204',\n",
       "  'HostId': 'mxUWyclq+THfY7UCuGNxs/O6poLsp0elZ0N5/fZz3Yy3/V1f2tSxEWq1FBK78ltCtaE3eZvRp0E=',\n",
       "  'HTTPStatusCode': 200,\n",
       "  'HTTPHeaders': {'x-amz-id-2': 'mxUWyclq+THfY7UCuGNxs/O6poLsp0elZ0N5/fZz3Yy3/V1f2tSxEWq1FBK78ltCtaE3eZvRp0E=',\n",
       "   'x-amz-request-id': '9C30C88070D47204',\n",
       "   'date': 'Mon, 06 Aug 2018 22:11:41 GMT',\n",
       "   'location': '/abucketforseek',\n",
       "   'content-length': '0',\n",
       "   'server': 'AmazonS3'},\n",
       "  'RetryAttempts': 0},\n",
       " 'Location': '/abucketforseek'}"
      ]
     },
     "execution_count": 21,
     "metadata": {},
     "output_type": "execute_result"
    }
   ],
   "source": [
    "bucket_name = 'abucketforseek'\n",
    "s3.create_bucket(Bucket=bucket_name, ACL='public-read')"
   ]
  },
  {
   "cell_type": "markdown",
   "metadata": {},
   "source": [
    "Upload the results to the bucket:"
   ]
  },
  {
   "cell_type": "code",
   "execution_count": 22,
   "metadata": {},
   "outputs": [],
   "source": [
    "s3.upload_file(file_name, bucket_name, 'q2h_solution.csv')"
   ]
  }
 ],
 "metadata": {
  "kernelspec": {
   "display_name": "Python 3",
   "language": "python",
   "name": "python3"
  },
  "language_info": {
   "codemirror_mode": {
    "name": "ipython",
    "version": 3
   },
   "file_extension": ".py",
   "mimetype": "text/x-python",
   "name": "python",
   "nbconvert_exporter": "python",
   "pygments_lexer": "ipython3",
   "version": "3.6.6"
  },
  "toc": {
   "nav_menu": {},
   "number_sections": true,
   "sideBar": true,
   "skip_h1_title": false,
   "toc_cell": true,
   "toc_position": {},
   "toc_section_display": "block",
   "toc_window_display": true
  }
 },
 "nbformat": 4,
 "nbformat_minor": 2
}
