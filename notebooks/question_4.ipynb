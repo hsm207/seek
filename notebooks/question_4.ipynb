{
 "cells": [
  {
   "cell_type": "markdown",
   "metadata": {
    "toc": true
   },
   "source": [
    "<h1>Table of Contents<span class=\"tocSkip\"></span></h1>\n",
    "<div class=\"toc\" style=\"margin-top: 1em;\"><ul class=\"toc-item\"><li><span><a href=\"#Libraries\" data-toc-modified-id=\"Libraries-1\"><span class=\"toc-item-num\">1&nbsp;&nbsp;</span>Libraries</a></span></li><li><span><a href=\"#Question-4a\" data-toc-modified-id=\"Question-4a-2\"><span class=\"toc-item-num\">2&nbsp;&nbsp;</span>Question 4a</a></span></li><li><span><a href=\"#Question-4b\" data-toc-modified-id=\"Question-4b-3\"><span class=\"toc-item-num\">3&nbsp;&nbsp;</span>Question 4b</a></span></li><li><span><a href=\"#Question-4c\" data-toc-modified-id=\"Question-4c-4\"><span class=\"toc-item-num\">4&nbsp;&nbsp;</span>Question 4c</a></span></li></ul></div>"
   ]
  },
  {
   "cell_type": "markdown",
   "metadata": {},
   "source": [
    "# Libraries"
   ]
  },
  {
   "cell_type": "code",
   "execution_count": 1,
   "metadata": {},
   "outputs": [],
   "source": [
    "import wikipedia\n",
    "import pandas as pd"
   ]
  },
  {
   "cell_type": "markdown",
   "metadata": {},
   "source": [
    "# Question 4a"
   ]
  },
  {
   "cell_type": "markdown",
   "metadata": {},
   "source": [
    "**Question**\n",
    "\n",
    "![](./images/question4a.png)"
   ]
  },
  {
   "cell_type": "markdown",
   "metadata": {},
   "source": [
    "**Solution**"
   ]
  },
  {
   "cell_type": "code",
   "execution_count": 2,
   "metadata": {},
   "outputs": [],
   "source": [
    "raw_text_music = wikipedia.page('1990s_in_music').content"
   ]
  },
  {
   "cell_type": "code",
   "execution_count": 3,
   "metadata": {},
   "outputs": [
    {
     "name": "stdout",
     "output_type": "stream",
     "text": [
      "For music from a year in the 1990s, go to 90 | 91 | 92 | 93 | 94 | 95 | 96 | 97 | 98 | 99\n",
      "\n",
      "Popular music in the 1990s  saw the continuation of teen pop and dance-pop trends which had emerged in the 1970s and 1980s. Furthermore, hip hop grew and continued to be highly successful in the decade, with the continuation of the genre's golden age. Aside from rap, reggae, contemporary R&B and urban music in general remained extremely popular throughout the decade; urban music in the late-1980s and 1990s often blended with styles such as soul, funk and jazz, resulting in fusion genres such as new jack swing, neo-soul, hip hop soul and g-funk which were popular.\n",
      "Similarly to the 1980s, rock music was also very popular in the 1990s, yet, unlike the new wave and glam metal-dominated scene of the time, grunge, Britpop, industrial rock and other alternative rock music emerged and took over as the most popular of the decade, as well as punk rock, ska punk and nu metal, amongst others, which attained a high level of success at different points throughout the years. Electronic music, which had risen in popularity in the 1980s, grew highly popular in the 1990s; house and techno from the 1980s rose to international success in this decade, as well as new electronic dance music genres such as trance, happy hardcore, drum and bass, intelligent dance and trip hop. In Europe, Eurodance, Bubblegum dance and Europop music were highly successful, while also finding some international success. The decade also featured the rise of contemporary country music as a major genre, which had started in the 1980s.It is difficult to gauge the lasting impact of 1990s music in popular culture.  A 2010 European survey conducted by the digital broadcaster Music Choice, interviewing over 11,000 participants, rated the 1990s as the second best tune decade in the last 50 years, while participants of an American land line survey rated the 1990s quite low, with only 8% declaring it as best decade in music.\n",
      "\n",
      "\n",
      "== North America ==\n",
      "\n",
      "\n",
      "=== Rock ===\n",
      "\n",
      "\n",
      "==== Alternative rock ====\n",
      "\n",
      "With the breakthrough of bands such as Nirvana and the popularity of the grunge and Britpop movements in the 1990s, alternative rock entered the musical mainstream and many alternative bands became commercially successful during the 1990s.\n",
      "By the start of the 1990s, the music industry was enticed by alternative rock's commercial possibilities and major labels actively courted bands including Alice in Chains, Pearl Jam, Jane's Addiction, Dinosaur Jr, and Nirvana. In particular, R.E.M.'s success had become a blueprint for many alternative bands in the late 1980s and 1990s to follow; the group had outlasted many of its contemporaries and by the 1990s had become one of the most popular bands in the world.The Red Hot Chili Peppers became an important band in the rise of alternative rock with their album Blood Sugar Sex Magik bringing worldwide attention to alternative rock. Combining funk rock with more conventional rock, the Chili Peppers were able to achieve mainstream success climaxing with the release of Californication.\n",
      "Some of the top mainstream American alternative rock bands of the 1990s included Hootie and The Blowfish, Collective Soul, Creed, Nirvana, Alice in Chains, Dinosaur Jr, The Mighty Mighty Bosstones, Green Day, Weezer, The Offspring, Matchbox Twenty, Red Hot Chili Peppers, Soul Asylum, Liz Phair, The Lemonheads, R.E.M., Soundgarden, Live, Counting Crows, dc Talk, Goo Goo Dolls, Third Eye Blind, The Smashing Pumpkins, 4 Non Blondes, Beck, The Breeders, Foo Fighters, Sublime, No Doubt, Hole, Cake, Blind Melon, Stone Temple Pilots, Garbage, and Pearl Jam.\n",
      "\n",
      "\n",
      "===== Alternative metal =====\n",
      "During the early 90s a new style of alternative music emerged, which combined elements of alternative rock with heavy metal, this new genre dubbed \"alternative metal\" is considered a precursor to the nu metal movement of the late 90s. This style was typified by bands such as Tool, Helmet and Jane's Addiction. Other bands including Faith No More, Primus, Red Hot Chili Peppers and Rage Against the Machine also blended funk & hip hop elements, creating subgenres of this style such as funk metal and rap metal.\n",
      "\n",
      "\n",
      "===== Grunge =====\n",
      "\n",
      "A subgenre of alternative rock, grunge bands picked up popularity for the early 1990s. Grunge music, and the culture marketed around it, was born out of the Pacific Northwest American states of Washington and Oregon in the 1980s. Artists such as Nirvana, Soundgarden, Alice in Chains and Pearl Jam brought alternative rock to popularity in 1991. However, many bands were uncomfortable with their success, and were equally suspicious of the grunge label.\n",
      "Nirvana whetted the public's appetite for more direct, less polished rock music, and one place it was found was in the debut album from a hard-rocking West Coast band with ties to the grunge movement, Pearl Jam. Pearl Jam released its debut album, Ten, a month before Nevermind in 1991, but sales only picked up a year later. By the second half of 1992, Ten became a breakthrough success, being certified gold and reaching number two on the Billboard 200 album chart. Pearl Jam fused the riff-heavy stadium rock of the 1970s with the grit and anger of 1980s post-punk.\n",
      "During the mid-1990s many grunge bands broke up or became less visible. The death of Kurt Cobain in early 1994, as well as the touring problems for Pearl Jam (due to the band's much-publicized boycott of Ticketmaster), marked the decline of the genre.\n",
      "\n",
      "\n",
      "===== Post-grunge =====\n",
      "  At the same time as the original grunge bands went into decline, major record labels began signing and promoting bands that were emulating the genre. The term post-grunge was coined to describe these bands, who emulated the attitudes and music of grunge, particularly thick, distorted guitars, but with a more radio-friendly commercially oriented sound.In 1995, former Nirvana drummer Dave Grohl's new band, the Foo Fighters, helped popularize the genre and define its parameters, becoming one of the most commercially successful rock bands in the US, aided by considerable airplay on MTV. Some of the most successful post-grunge acts of the 90s were Candlebox, Bush, Collective Soul, Creed, Matchbox Twenty, Our Lady Peace, Foo Fighters, Live and others. The genre would have another wave of successful acts throughout much of the early part of the next decade which includes bands like Nickelback, Creed, Lifehouse, 3 Doors Down, and more. Although, some of those bands were formed during the late 1990s, many would not see a commercial breakthrough until the early years of the following decade.\n",
      "\n",
      "\n",
      "===== Indie rock =====\n",
      "\n",
      "Following the immense success of alternative rock in the 1990s, the term \"indie rock\" became associated with the bands and genres that remained underground. Bands like Sonic Youth and Pixies set the stage for the rise of indie rock in the underground scene, with bands such as Pavement, Archers of Loaf, Sleater-Kinney, Built to Spill, Yo La Tengo, The Breeders, Superchunk, Dinosaur Jr., Cat Power, Guided by Voices, Sebadoh, The Jesus Lizard, Liz Phair, and The Flaming Lips gaining popularity throughout the decade.\n",
      "\n",
      "\n",
      "===== Ska punk =====\n",
      "By the late 1990s, mainstream interest in third wave ska bands such as Reel Big Fish, The Mighty Mighty Bosstones, Sublime, and No Doubt waned as other music genres gained momentum.\n",
      "\n",
      "\n",
      "==== Skate punk and pop punk ====\n",
      "\n",
      "Punk rock in the United States underwent a resurgence in the early to mid-1990s. Punk rock at that time was not commercially viable, and no major record label signed a punk rock band until Green Day's breakthrough in 1994. Both these factors contributed to the emergence of a number of independent record labels, often run by people in bands in order to release their own music and that of their friends. The independent labels Lookout! Records, Fat Wreck Chords and Epitaph Records achieved commercial success.\n",
      "Skate punk broke into the mainstream in the mid-1990s, initially with the Northern California-based skate punk band Green Day and in the late 1990s with the Southern California-based pop punk band Blink-182 as well who all achieved massive worldwide commercial success. Green Day's album Dookie (1994) sold 10 million copies in the United States and another 10 million copies worldwide. Soon after the release of Dookie, The Offspring released the album Smash. The album sold over 14 million copies worldwide, setting a record for most albums sold on an independent label. \n",
      " Rancid's Let's Go and NOFX's Punk in Drublic were also released during this period and both of them went gold as well. By the end of the year, Dookie and Smash had sold millions of copies. The commercial success of these two albums attracted major label interest in skate/pop punk, with bands such as Bad Religion being offered lucrative contracts to leave their independent record labels. In 1999, Blink-182 made a breakthrough with the release of Enema of the State, which sold over 15 million copies worldwide receiving multi-platinum status in the United States, Canada, Australia, Italy, New Zealand and platinum status in Europe and the United Kingdom. Green Day are seen as the biggest act in punk rock whilst Blink-182 are seen to have the most influence on later bands like Fall Out Boy and All Time Low.\n",
      "\n",
      "\n",
      "==== Heavy metal ====\n",
      "Many subgenres of metal developed outside of the commercial mainstream during the 1980s. In the early 1990s the thrash metal genre achieved break-out success, mainly due to the massive success of Metallica's eponymous 5th album which was released in 1991 and brought thrash metal to the mainstream for the first time. Metallica's success was followed by Megadeth's Countdown to Extinction (1992) which hit number 2, Anthrax, Pantera, and Slayer cracked the top 10, and albums by regional bands such as Testament and Sepultura entered the top 100.In the later half of the decade industrial metal became popular. The top mainstream American industrial metal bands of the 1990s included Nine Inch Nails, Marilyn Manson, White Zombie, KMFDM, Ministry, and Fear Factory.\n",
      "\n",
      "\n",
      "==== Pop rock and singer-songwriter ====\n",
      "\n",
      "In the 1990s, there was a revival of the singer-songwriter movement of the 1970s. This movement lasted up to about 2004 with artists like Norah Jones, Dido and Sarah McLachlan. Important artists of this movement include Alanis Morissette, Tori Amos, Fiona Apple, Liz Phair, Juliana Hatfield, Edwin McCain, Jewel, Natalie Merchant, Sheryl Crow and Lisa Loeb. Perhaps the most important album of the movement was the multi-platinum 1995 album Jagged Little Pill by Alanis Morissette as well as Sheryl Crow's 1993 album Tuesday Night Music Club and her 1996 eponymous album.The trend ended in the late 1990s with Lynda Thomas, who became the first idol of the \"teen pop-rock\" movement, which later in the 2000s reached its highest level of popularity with later singers such as Avril Lavigne, Kelly Clarkson, P!nk, Hilary Duff, and Ashlee Simpson.Also in the 1990s, artists such as Jeff Buckley, Dave Matthews, Shania Twain, Bryan Adams, Elliott Smith, Melissa Etheridge, as well as Sheryl Crow borrowed from the singer-songwriter tradition to create new acoustic-based rock styles.\n",
      "\n",
      "\n",
      "==== Hard rock ====\n",
      "Third wave glam metal artists such as Firehouse, Warrant, Extreme, Slaughter, and Skid Row experienced their greatest success at the start of the decade, but these bands' popularity waned after 1992 or so. Mötley Crüe and Poison, who were hugely popular in the 1980s, released successful albums in 1989 and 1990, respectively, and continued to benefit from that success in the early part of the decade. The Black Crowes ushered in a more classic rock 'n' roll sound with their successful debut in 1990. More well-established hard rock artists such as Guns N' Roses, Van Halen, Def Leppard, Ozzy Osbourne, and Tom Petty released successful albums and remained very popular in the first half of the decade, while Aerosmith, Bon Jovi, and Metallica maintained their popularity throughout the entire decade, largely by re-inventing themselves with each new album and exploring different sounds.\n",
      "\n",
      "\n",
      "=== Pop ===\n",
      "\n",
      "Contemporary R&B and urban pop became popular throughout the 1990s, but was overshadowed by more pop-rock and dance music by the second half of the decade. Michael Jackson achieved continued critical and commercial success in the 1990s with his 1991 album Dangerous which sold 35 million copies and his 1995 follow-up HIStory which sold 40 millions units (20 million copies of the double disc set). Jackson's debut single \"Black or White\" from the former album was one of the best selling singles of the 1990s, and the debut single \"You Are Not Alone\" from the latter album became, on 2 September 1995, the first single to debut at number one on the Billboard Hot 100 chart. In 1997, Jackson released Blood on the Dance Floor: HIStory in the Mix which became the best-selling remix album of all time, a record it still holds with over six million copies sold.\n",
      "British girl group The Spice Girls managed to break the American market, becoming the most commercially successful British group in North America since The Beatles. Their impact brings about a widespread invasion of teen pop acts to the US charts which had been predominantly dominated by grunge and hip hop prior to the success of the group. Between 1997 and 2000 American teen pop singers and groups including Backstreet Boys, *NSYNC, 98 Degrees, Hanson, Christina Aguilera, Britney Spears, Jessica Simpson, Mandy Moore, Jennifer Lopez and Destiny's Child became popular, following the lead of The Spice Girls by targeting early members of Generation Y. At the end of the decade, Britney Spears and Christina Aguilera had huge successes with their hit singles, \"...Baby One More Time\" and \"Genie in a Bottle\" and respective debut albums which remain among the best selling of all time. Britney Spears's single/ album went onto the top of the US charts in early 1999. \"Womanizer\" (Jive) was the second No. 1 hit for Spears after her debut single, \" … Baby One More Time.\" Spears has the longest gap between No. 1 hits since Cher's \"Believe\" claimed pole position in March 1999, just 10 days shy of 25 years after \"Dark Lady\" landed in first place.\n",
      "Madonna's album Erotica was released in 1992 and became one of the most controversial albums to date. In 1998, she also had her most acclaimed album to date, Ray of Light, which has sold over 16 million copies worldwide. Cyndi Lauper released her first mature album Hat Full of Stars (1993), which leaves complete the image of her first two albums, but it is highly praised by critics even though it did not achieve commercial success. Larry Flick of Billboard called Janet Jackson's The Velvet Rope \"[t]he best American album of the year and the most empowering of her last five.\" Released in October 1997, The Velvet Rope debuted at number one on the Billboard 200. In August 1997, the album's lead single, \"Got 'til It's Gone\", was released to radio, peaking at number 12 on the Billboard Rhythmic Airplay Chart. The single sampled the Joni Mitchell song \"Big Yellow Taxi\", and featured a cameo appearance by rapper Q-Tip. \"Got 'til It's Gone\" won the 1997 Grammy Award for Best Short Form Music Video. The album's second single \"Together Again\", became her eighth number one hit on the Billboard Hot 100 singles chart, and placing her on par with Elton John, and The Rolling Stones. The single spent a record 46 weeks on the Hot 100, as well as spending 19 weeks on the UK singles chart. \"I Get Lonely\" peaked at number three on the Hot 100. The Velvet Rope sold over ten million albums worldwide and was certified three times platinum by the RIAA. Céline Dion achieving worldwide success with the song My Heart Will Go On from Titanic soundtrack.\n",
      "\n",
      "\n",
      "==== Adult Contemporary ====\n",
      "In the early 1990s, Mariah Carey's hit singles such as \"Vision of Love\" (1990) and \"Love Takes Time\" (1990), and Whitney Houston's \"All the Man That I Need\" (1990) and \"I Will Always Love You\" (1992) topped the radio charts for the adult contemporary format.\n",
      "\n",
      "\n",
      "=== Contemporary R&B ===\n",
      "\n",
      "Whitney Houston's quiet storm hits included \"All the Man That I Need\" (1990) and \"I Will Always Love You\" (1992). Houston's \"I Will Always Love You\", a song from the 1992 hit film The Bodyguard, spent 14 weeks on top of the Billboard Hot 100 a record at the time, and sold over 40 million copies worldwide. It is the best selling single by a female act of all time. In the 1990s, Mariah Carey's career originated in quiet storm, with hit singles such as \"Vision of Love\" (1990) and \"Love Takes Time\" (1990). Her albums Music Box (1993) and Daydream (1995) are some of the best selling albums of all time, and had major R&B influences. Richard J. Ripani wrote that Carey and Houston, \"both of whom rely heavily on the gospel music vocal tradition, display an emphasis on melisma that increased in R&B generally over the 1980s and 1990s.\" Carey's \"Vision of Love\" is considered to be an extreme example of the use of melisma and known for kick starting the entire melismatic trend in songs with female artists for the next 20 years. Beyoncé quoted the song to make her want to sing, as did many other popular artist. Also during the early 1990s, Boyz II Men re-popularized classic soul-inspired vocal harmonies. Michael Jackson incorporated new jack swing into his 1991 album Dangerous, with sales over 50 million, and is the best selling album of the decade.\n",
      "\n",
      "The popularity of the ballad and R&B leads to the development of a genre called Urban adult contemporary. Popular American contemporary R&B artists included Mariah Carey, Faith Evans, D'Angelo, Lauryn Hill, Whitney Houston, Sade, En Vogue, Toni Braxton, Boyz II Men, Mary J. Blige, Dru Hill, Vanessa L. Williams, Groove Theory, Bell Biv Devoe, Jodeci, Diana King, Tony! Toni! Tone!, Tara Kemp, Brownstone, Shanice, Usher, SWV, Silk, Aaliyah, Keith Sweat, R. Kelly, TLC, Xscape, Blaque, Brandy, Monica, Total and Tevin Campbell. In contrast to the works of Boyz II Men, Babyface and similar artists, other R&B artists from this same period began adding even more of a hip hop sound to their work. The synthesizer-heavy rhythm tracks of new jack swing was replaced by grittier East Coast hip hop-inspired backing tracks, resulting in a genre labelled hip hop soul by producer Sean Combs. The style became less popular by the end of the 1990s, but later experienced a resurgence.\n",
      "During the mid-1990s, Janet Jackson, Mariah Carey, Faith Evans, TLC, Xscape, Whitney Houston and Boyz II Men brought contemporary R&B to the masses.\n",
      "Jackson's self-titled fifth studio album janet. (1993), which came after her historic multimillion-dollar contract with Virgin Records, sold over twenty million copies worldwide. Houston, Boyz II Men and Carey recorded several Billboard Hot 100 No. 1 hits, including \"Exhale (Shoop Shoop)\", \"One Sweet Day\", a collaboration between Boyz II Men and Carey, which became the longest-running No. 1 hit in Hot 100 history. Carey, Boyz II Men and TLC released albums in 1994 and 1995—Daydream, II, and CrazySexyCool respectively – that sold over ten million copies, earning them diamond status in the U.S. Beginning in 1995, the Grammy Awards enacted the Grammy Award for Best R&B Album with II, and Boyz II Men became the first recipient. The award was later received by TLC for CrazySexyCool in 1996.\n",
      "Mariah Carey's duet with Boyz II Men \"One Sweet Day\" was pronounced song of the decade, charting at number one on the decade-end chart. Carey became Billboard's most successful female artist of the decade, and one of the most successful R&B acts of the 90s.\n",
      "R&B artists such as Janet Jackson, Michael Jackson, Whitney Houston and Mariah Carey are some of the best selling music artists of all time, and especially in the 1990s brought Contemporary R&B to a worldwide platform.\n",
      "\n",
      "\n",
      "=== Neo-Soul ===\n",
      " In the mid-1990s, neo soul, which added 1970s soul influences to the hip hop soul blend, arose, led by artists such as D'Angelo, Erykah Badu, Lauryn Hill, and Maxwell. Lauryn Hill and Missy Elliott further blurred the line between R&B and hip hop by recording both styles. D'Angelo's Brown Sugar was released in June 1995. Although sales were sluggish at first, the album was eventually a hit, due in large part to \"Lady,\" a top-ten hit on the Billboard Hot 100 charts, peaking at #10. The album earned platinum certification from the Recording Industry Association of America, for shipments of one million copies in the U.S., while its total sales have been estimated within the range of 1.5 million to over two million copies. While the album was certified platinum in the United States, indicating shipments of one million units, its total sales were adversely reported by several publications with estimations ranging from 1.5 to 2 million units. The album helped give commercial visibility to the burgeoning Neo soul movement of the 1990s, along with debut albums by Maxwell, Erykah Badu, and Lauryn Hill. The album was a critical success as well and appeared on many critics' best-of lists that year.\n",
      "Hill's The Miseducation of Lauryn Hill (1998) remains her only studio album; it received critical acclaim, some suggesting it was the greatest neo-soul album of all time. It debuted at number one on the Billboard 200 and sold 19 million copies worldwide, spawning the singles \"Doo Wop (That Thing)\", \"Ex-Factor\", and \"Everything Is Everything\". At the 41st Grammy Awards, the album earned her five Grammy Awards, including the Album of the Year. Soon after, Hill dropped out of the public-eye, mainly because of her dissatisfaction with the music industry.\n",
      "\n",
      "\n",
      "=== Hip hop ===\n",
      "\n",
      "The decade is notable for the extension of the rap music scene from New York City, the center of hip hop culture throughout the 1980s, to other cities like Los Angeles, Atlanta, Houston, the Bay Area, Miami, Chicago, and Memphis.\n",
      "Dr. Dre's 1992 album The Chronic provided a template for modern gangsta rap. In addition to The Chronic, Dre introduced a new artist known as Snoop Dogg which allowed for their to be the success of Snoop's album, Doggystyle, in 1993. Due to the success of Death Row Records, West Coast hip hop dominated hip hop during the early 1990s, along with The Notorious B.I.G. on the East Coast. Hip hop became the best selling music genre by the mid-1990s.Rap albums released in the 1990s include Illmatic, All Eyez On Me, The Infamous, Enter the Wu-Tang (36 Chambers), Ready To Die, The Chronic, Aquemini, ATLiens, Operation: Doomsday, Ridin' Dirty, The Low End Theory, Liquid Swords, and Doggystyle.\n",
      "In 1998, Lauryn Hill released her debut album The Miseducation of Lauryn Hill, which debuted at number one on the Billboard 200. In 1999, The Miseducation was nominated for 10 Grammy's, winning five (which at the time was unheard of for a hip-hop artist) and eventually went on to sell over 19 million copies worldwide.The early 1990s was dominated by female rappers, such as Queen Latifah and hip hop trio Salt-N-Pepa. The late 1990s saw the rise of successful female rappers and a turn in East Coast hip hop, with the debuts of Lil' Kim (with Hard Core) and Foxy Brown (with Ill Na Na), due to their use of excessive raunchy and provocative lyrics.\n",
      "By the end of the 1990s attention turned towards dirty south and crunk, with artists such as Outkast, Trick Daddy, Trina, Three 6 Mafia, Master P, Juvenile, Missy Elliott and Lil Wayne.The mid 1990s were marked by the deaths of the West Coast-based rapper 2Pac and the East Coast-based rapper The Notorious B.I.G., which conspiracy theorists claim were killed as a result of the East Coast–West Coast hip hop rivalry.\n",
      "Samples and interpolations of old songs in hip hop songs were common in the 1990s because it was meant to celebrate the end of the 2nd millennium and the 20th century by going retro. Many of these songs are as follows: \"U Can't Touch This\" by MC Hammer; \"Ice Ice Baby\" by Vanilla Ice; \"Jump Around\" by House of Pain; \"Mo Money Mo Problems\" and \"Big Poppa\" by Notorious B.I.G.; \"It Was a Good Day\" by Ice Cube; \"Regulate\" by Warren G and Nate Dogg; \"I'll Be Missing You\" by Puff Daddy featuring Faith Evans and 112; \"Ain't No Nigga\" by Jay-Z featuring Foxy Brown; \"Killing Me Softly\" by The Fugees; \"Feel So Good\" by Mase; \"Hey Lover\" by Boyz II Men featuring LL Cool J; \"C.R.E.A.M.\" by Wu-Tang Clan; \"Nuthin' but a 'G' Thang\" by Dr. Dre featuring Snoop Dogg; \"No Diggity\" by BLACKstreet; \"Gangsta's Paradise\" by Coolio featuring L.V.; \"The Rain (Supa Dupa Fly)\" by Missy Elliott; \"I Wish\" by Skee-Lo; \"People Everyday\" and \"Tennessee\" by Arrested Development; \"The Humpty Dance\" by Digital Underground; 2pac's \"Do for Love\", \"I Get Around\", and \"California Love\"; and Will Smith's \"Miami\", \"Gettin' Jiggy wit It\", \"Men in Black\", and \"Wild Wild West\".\n",
      "Some of the most prominent rap artists of the 1990s include 2Pac, Notorious B.I.G., Vanilla Ice, Nas, Ice Cube, Dr. Dre, Eazy-E, Wu-Tang Clan, Snoop Doggy Dogg, Busta Rhymes, Cypress Hill, MC Hammer, Coolio, OutKast, Three 6 Mafia, Mobb Deep, A Tribe Called Quest, Will Smith and Jay Z.\n",
      "\n",
      "\n",
      "=== Electronic music ===\n",
      "\n",
      "With the explosive growth of computers, music technology and consequent reduction in the cost of equipment in the early 1990s, it became possible for a wider number of musicians to produce electronic music. Even though initially most of the electronic music was dance music, the genre developed in the 1990s as musicians started producing music which was not necessarily designed for the dance-floor but rather for home listening (later on referred to as \"Electronica\") and slower paced music which was played throughout chillout rooms—the relaxation sections of the clubs (later on referred to as \"downtempo\", \"chill-out music\" and \"ambient music\").\n",
      "In the late 1990s Madonna had success with her album Ray of Light which experimented with electronica sounds. Moby achieved international success in the ambient electronica scene after releasing his critically acclaimed album Play in 1999 which produced an impressive eight hit singles (including his most popular songs \"Porcelain\", \"Natural Blues\" and \"Why Does My Heart Feel So Bad?\").\n",
      "Electronic dance music was highly successful throughout the decade in Europe, particularly in Britain, Germany and Italy. Outdoor raves were popular at the start of the decade in the UK, before the government introduced its Criminal Justice and Public Order Act 1994, leading to a higher number of superclubs opening. Among the most successful were Ministry of Sound and Cream. Before the ban, popular genres at these raves included breakbeat hardcore and techno, though in the mid-1990s these genres splintered into separate scenes, such as happy hardcore, jungle and drum and bass, the latter of which received mainstream recognition through artists such as Goldie and Roni Size.\n",
      "Other notable British genres that emerged during the decade include progressive house, big beat, vocal house, trip hop and UK Garage (or Speed Garage). The latter genre developed in London in the late 1990s and continued to be successful through to the early 2000s. DJ Culture also gained momentum during the 1990s. DJs such as Sasha, John Digweed, Paul Oakenfold, Ferry Corsten and Pete Tong became big names in the business, which was made desirable by magazine such as Mixmag and Muzik.\n",
      "Italy ended the 1980s with Italo house, before becoming one of many countries to release Eurodance and Hi-NRG. Both genres were commercially successful across the world, with artists such as 2 Unlimited, La Bouche and Captain Hollywood promoting the genre. Countries such as Germany and Belgium, however, developed harder, darker styles of music, namely gabber, hard trance and techno. Trance emerged in the early 1990s and by the end of the decade had penetrated most of Europe, with artists such as ATB, Ferry Corsten, WestBam and Paul Van Dyk gaining huge commercial and underground success. European trance remained popular until the early 2000s. Goa became famed for its goa trance parties and Ibiza became the Number 1 clubbers' holiday destination.\n",
      "\n",
      "\n",
      "=== Country music ===\n",
      "\n",
      "The popularity of country music exploded in the early 1990s. The stage had been set in 1989 with the debuts of several performers who proved to be profoundly influential on the genre during the 1990s and beyond. Most notable of that group was Garth Brooks, who shattered records for album sales and concert attendance throughout the decade. The RIAA has certified his recordings at a combined (128× platinum), denoting roughly 113 million U.S. shipments. Brooks recorded primarily in a honky-tonk style, although he frequently combined elements of soft rock and arena rock in his songs. His songs sometimes explored social themes, such as domestic violence (in \"The Thunder Rolls\") and racial harmony (\"We Shall Be Free)\", while others – such as \"Friends in Low Places\" — were just good-time songs with traditional country themes of heartbreak, loneliness and dealing with those emotions.\n",
      "Other performers who rose in popularity during the early 1990s were neo-traditionalists Clint Black and Alan Jackson and southern rock influenced Travis Tritt. Mary Chapin Carpenter had a folk-style about her, while Lorrie Morgan (the latter the daughter of the late George Morgan, himself a country legend) blended elements of country and pop, and occasionally operatic sounds in songs such as \"Something in Red.\" Trisha Yearwood was one of the top new singers of 1991, while Diamond Rio blended traditional and bluegrass styles and Brooks & Dunn provided a driving honky-tonk sound.\n",
      "During the early-to-middle part of the decade, several recordings were influenced by the popularity of line dancing, including \"Boot-Scootin' Boogie\" by Brooks & Dunn and \"Achy Breaky Heart\" by Billy Ray Cyrus. This influence was so great that Chet Atkins was quoted as saying \"The music has gotten pretty bad, I think. It's all that damn line dancing.\"A steady stream of new artists began their careers during the mid- and late-1990s. Many of these careers were short-lived, but several went on to long-lived, profitable careers. The most successful of the new artists were Yearwood, Shania Twain, LeAnn Rimes, Lee Ann Womack, Martina McBride, Kenny Chesney, Collin Raye, Faith Hill, and Tim McGraw, while Lonestar and Dixie Chicks were the most successful new groups. Twain's Come on Over album became the best-selling album released by a female of any genre. Yearwood became the first woman in more than 25 years to have her debut single top the Billboard Country Singles chart in 1991 with her single \"She's in Love with the Boy\". Yearwood's debut album also became the first by a female country act to sell over 1 million copies, eventually going double platinum.\n",
      "Among artists whose success continued from the 1980s, Reba McEntire was the most successful of the female artists, selling more than 30 million albums during the decade, gaining eight number-one hit singles on the U.S. Hot Country Singles & Tracks chart and six number one albums internationally, including her best-selling album, Greatest Hits Vol. 2, which was released in September 1993 and has sold over an international amount of 10 million copies to date. George Strait, a neo-traditionalist whose national success began in the early 1980s, enjoyed success as both a radio artist (17 No. 1 songs) and as a movie star (1992's Pure Country). Alabama, the most successful country band of the 1980s, continued their run of popularity with sell-out concerts and best-selling albums, while topping the country chart five times. Among older artists having big hits, Conway Twitty was one of the most successful, scoring two Top 3 hits with \"Crazy in Love\" and \"I Couldn't See You Leaving\", while Eddie Rabbitt had a No. 1 hit with \"On Second Thought.\" Dolly Parton had a No. 1 hit (with relative newcomer Ricky Van Shelton) on \"Rockin' Years\" in 1991 and had several top 15 hits. Although his 1990s singles never reached the top 20 (excepting for a duet single with Randy Travis), George Jones (who had been around since the 1950s) regularly recorded and released critically acclaimed material, including the semi-autobiographical \"Choices.\" The Oak Ridge Boys continued their run of success with a No. 1 hit (\"No Matter How High\") and several other top 40 hits; in 1995, upon the departure of William Lee Golden's replacement Steve Sanders, Golden reunited with longtime band members Duane Allen, Joe Bonsall and Richard Sterban, and the group has remained intact since then. While the Oak Ridge Boys' contemporaries The Statler Brothers were no longer reaching the top 40, the veteran group remained highly popular with fans and their new albums continued to sell well. Other artists reaching the top 10 of the Hot Country Singles & Tracks chart were Waylon Jennings, Anne Murray, and Kenny Rogers.\n",
      "Pop-influenced country music began growing in popularity, particularly after Twain and Hill rose in popularity in the latter half of the 1990s. In 1998, Hill's \"This Kiss\" and Twain's \"You're Still the One\" both reached the top 10 of the Billboard Hot 100, in addition to peaking at No. 1 on the Hot Country Singles & Tracks chart. Rimes had a multi-million selling hit with \"How Do I Live\" (a song successfully covered by Yearwood), while Lonestar also had a huge crossover hit with \"Amazed.\" Although the occurrence of country crossing over to the pop charts goes back as far as the start of the Billboard charts in 1940, some critics began to be troubled by a trend toward what they perceived as pop music marketed as country; they contended that radio was concentrating more on newer music while ignoring the more traditional styles of older artists such as Merle Haggard, George Jones, and others who continued to record and release new material. Johnny Cash and producer Rick Rubin once purchased a full-page advertisement in Billboard magazine – after Cash's album Unchained won a Grammy for Best Country Album, despite a lack of support from radio – showing a young Cash displaying his middle finger and sarcastically \"thanking\" radio for supporting the album. The criticism of pop-influenced and non-traditional styles in country music, however, dated back to the 1970s although it had quieted down comparably during the 1980s.\n",
      "In the 1990s, alternative country came to refer to a diverse group of musicians and singers operating outside the traditions and industry of mainstream country music. In general, they eschewed the high production values and pop outlook of the Nashville-dominated industry, to produce music with a lo-fi sound, frequently infused with a strong punk and rock & roll aesthetic, bending the traditional rules of country music. Lyrics were often bleak, gothic or socially aware. Other initiators include Old 97's, Steve Earle, Uncle Tupelo, Son Volt, Ryan Adams, My Morning Jacket, Blitzen Trapper, and Drive-By Truckers.\n",
      "A number of notable artists in country music died during the decade, including Twitty, Webb Pierce, Dottie West, Tennessee Ernie Ford, Roger Miller, Roy Acuff, Charlie Rich, Minnie Pearl, Faron Young, John Denver, Carl Perkins, Grandpa Jones, Tammy Wynette, Eddie Rabbitt, Gene Autry, Roy Rogers, Rex Allen and Hank Snow.\n",
      "\n",
      "\n",
      "=== Billboard Artist of the Decade ===\n",
      "In December 1999, Billboard Magazine named Mariah Carey as the best Artist of the Decade for the 1990s, while Janet Jackson followed as second according to Billboard.In 1999, Selena was named the \"top Latin artist of the '90s\" and \"Best selling Latin artist of the decade\" by Billboard, for her fourteen top-ten singles in the Top Latin Songs chart, including seven number-one hits. The singer also had the most successful singles of 1994 and 1995, \"Amor Prohibido\" and \"No Me Queda Más\".\n",
      "\n",
      "\n",
      "== Europe ==\n",
      "\n",
      "\n",
      "=== Rock ===\n",
      "\n",
      "\n",
      "==== Madchester ====\n",
      "In the late 1980s/early 1990s a counter-culture movement rose from the Manchester club scene that came to be known as Madchester. Happy Mondays, and The Stone Roses were the pre-eminent bands.\n",
      "\n",
      "\n",
      "==== Britpop ====\n",
      "\n",
      "In the early 1990s a counter-culture movement rose in Britain, called Britpop by the music press, rejecting the themes of disenfranchised youth coming out of America in favour of songs written specifically about the experiences of the British youth. Although the movement was heavily influenced by 1960s, 1970s, and 1980s British rock there was very little that musically defined the Britpop bands beyond the intensely British lyrical themes. Britpop bands such as Blur, Suede, Pulp, Manic Street Preachers, Elastica, Supergrass, The Verve and Oasis regularly topped the singles and album charts throughout the decade. Oasis were the biggest band of the Britpop era, as their second album (What's the Story) Morning Glory? became the second highest selling studio album of all time in the U.K and their era defining concerts at Knebworth Park, playing to 250,000 people over two nights, broke records for attendance and ticket applications. In addition to this, they made a significant impact on the US market, achieving three top 5 albums in that country. The Britpop phenomena ran out of steam by the end of the 1990s with most of its most successful bands splitting up or fading away, although two bands that did prominently ascend the rubble were Travis and Coldplay.\n",
      "\n",
      "\n",
      "==== Post-Britpop ====\n",
      "From about 1997 Britpop as a movement began to dissolve, emerging bands began to avoid the Britpop label while still producing music derived from it. Many of these bands tended to mix elements of British traditional rock (or British trad rock), particularly the Beatles, Rolling Stones and Small Faces, with American influences, including post-grunge. Post-Britpop bands like The Verve, Radiohead, Travis, Stereophonics and Feeder, achieved much wider international success than most of the Britpop groups that had preceded them, and were some of the most commercially successful acts of the late 1990s.\n",
      "\n",
      "\n",
      "==== Other trends ====\n",
      "The Irish Celtic folk rock band The Corrs achieved international success during the late 1990s with a series of hit recordings which established them as international stars and helped a successful career that continued into the 2000s.\n",
      "\n",
      "\n",
      "=== Pop ===\n",
      "\n",
      "Pop music and dance music became popular throughout the 1990s. Popular European Pop artists of the 1990s included Seal, Jamiroquai, Milli Vanilli, Right Said Fred.\n",
      "During the 1990s some European managers created their own Boy band acts, beginning with Nigel Martin-Smith's Take That and East 17, which competed with Louis Walsh's Irish bands Westlife and Boyzone. In 1996, the male saturated market was turned on its head by one of the most successful and influential pop acts of the decade, the Spice Girls. The group achieve nine number 1 singles in the UK and US, including \"Wannabe\", \"2 Become 1\" and \"Spice Up Your Life\". The group, unlike their British boy band predecessors, manage to break America and achieve the best-selling album of 1997 in the USA. More Girl Groups begin to emerge such as All Saints, who had five number 1 hits in the UK and two multi-platinum albums. By the end of the century the grip of boy bands on the charts was faltering, but proved the basis for solo careers like that of Robbie Williams, formerly of Take That, who achieved six number one singles in the UK between 1998 and 2004. Additional popular European Teen pop acts of the 1990s include Ace of Base, Aqua and A*Teens.\n",
      "Ballad songs were popular during this decade, popular European artists included George Michael, Robert Palmer, Sade, Sinéad O'Connor, The Cranberries, Lisa Stansfield and Roxette. Danish pop band Michael Learns to Rock, fronted by singer/songwriter/keyboardist Jascha Richter, were well known for their ballads such as \"The Actor\" (1994), \"Sleeping Child\" (1995), \"That's why (you go away)\" (1997), and \"Paint my love\" (1997).\n",
      "In the summer of 1996 The Spanish music duo Los del Río popularized the dance craze \"Macarena\" with their hit smash summer hit \"Macarena\". The song was featured prominently in many other countries during the mid-1990s.\n",
      "\n",
      "\n",
      "=== Electronic music ===\n",
      "\n",
      "With the explosive growth of computers music technology and consequent reduction in the cost of equipment in the early 1990s, it became possible for a wider number of musicians to produce electronic music.\n",
      "The popularity of house, techno & rave in the early part of the decade leads to the boom of the more commercial Eurodance genre. Popular European Eurodance acts of the decade include: the Vengaboys, Toy-Box, Daze, Jonny Jakobsen, Alexia, Alice Deejay, Haddaway, Captain Jack, Captain Hollywood Project, Basic Element, Solid Base, Daze, Gigi D'Agostino, Vengaboys, 2 Unlimited, Cappella, Corona, Culture Beat, DJ Bobo, Dr. Alban, Ice MC, La Bouche, 2 Brothers on the 4th Floor, Twenty 4 Seven, Leila K, Fun Factory, Masterboy, Mr. President, Pandora, Magic Affair, Maxx, Loft, Sash!, BKS, Snap!, Playahitty, Love Inc., Real McCoy, Urban Cookie Collective, Scatman John, Paradisio and Whigfield. Eventually the popularity of the Eurodance genre leads to the huge popularity of the trance genre in the late 1990s and early 2000s.\n",
      "\n",
      "The 1990s also saw the development and refinement of IDM (Intelligent Dance Music), which borrowed from forms such as techno, drum and bass, and acid house music and introduced more abstract elements, including heavy use of digital signal processing. Among the most commercially successful products in the 1990s of these scenes were European acts such as The Prodigy, The Chemical Brothers and Fatboy Slim, Aphex Twin, Autechre, Boards of Canada and Squarepusher.\n",
      "The arrival of Massive Attack in the early 1990s leads to a new style of slow electronic music, that is dubbed trip hop and influences groups such as Portishead, Björk, Tricky, Morcheeba and Thievery Corporation.\n",
      "Additional popular and commercially successful European electronic music artists of the 1990s include Leftfield, LFO, Massive Attack, Portishead, Underworld, Mr. Oizo, Orbital and Vitalic.\n",
      "\n",
      "\n",
      "== Latin America ==\n",
      "\n",
      "\n",
      "=== Pop ===\n",
      "In 1991 21-year-old singer Luis Miguel rediscovers the bolero, echoing back to the trios of the 1940s with his album Romance. He becomes the biggest international Latin star until the late 1990s.\n",
      "From early to mid-1990s successful acts such as Selena Quintanilla-Pérez, Thalía, Lynda Thomas, Chayanne and Paulina Rubio became the first 1990s music idols in Latin America, subsequently appeared other successful singers and pop groups, including No Mercy, Shakira, Fey and Enrique Iglesias, they also achieved international success.\n",
      "In 1998 Ricky Martin eclipses Luis Miguel as the top Latin star as he performs \"The Cup of Life\" during the 1998 World Cup and releases \"Livin' La Vida Loca\" which would become an international hit. In 2000, Martin's song \"She Bangs\" hit Number 1 in Spain and Italy and Number 2 in the UK and Canada, and debuted at Number 3 in Australia, staying in the Top 10 there for another six more weeks.\n",
      "By the early 1990s, Puerto Rico becomes a merengue stronghold, with acts such as Elvis Crespo, Olga Tañon and Grupo Mania topping the charts throughout Latin America.\n",
      "After Selena's death, Colombian singer Shakira, Puerto Rican-American pop star Jennifer Lopez, and Spanish singer Enrique Iglesias began to rise into the top of the pop charts by the end of the decade.\n",
      "Latin boy bands and vocal pop groups were storming up the charts in Mexico and Central America. Mexican boy band Magneto spawned hits in the early 1990s but split in 1996. In 1995, their successors, Mercurio continued making top hits like Bye Bye Baby and Explota Corazón. MDO, a Puerto Rican boy band also hoarded the charts with songs like No Puedo Olvidarme de Ti. Mexican pop groups Onda Vaselina and Kabah spanned several hits in the Latin American charts and made history in the Mexican charts. Jeans, Mexican pop girl group rose to fame in late 1996 and 1997 and continued until the 2000s.\n",
      "\n",
      "\n",
      "=== Rock ===\n",
      "Surge of newfound interest in Spanish-language rock, led by bands like Soda Stereo, Héroes del Silencio, Los Fabulosos Cadillacs, Maná, La Ley, Café Tacuba or Los Tres which gained large international following during this period. Others would follow their footsteps.\n",
      "Along with the rise of Spanish rock came \"rock alternativo\", a Spanish equivalent to alternative rock headed by bands like Los Piojos, Babasónicos and Attaque 77. The \"rolinga\" or \"stone rock\" genre also emerged from \"rock alternativo\", popularized and headed throughout the entire decade by Viejas Locas. The stone-rock genre would remain popular in the 2000s with the Viejas Locas' vocalist, Pity Álvarez's other band, Intoxicados.\n",
      "\n",
      "\n",
      "=== Salsa ===\n",
      "During the 1990s salsa spread from the Caribbean region all over Latin America sharing the dance music niche with cumbia. During this period salsa became also increasingly popular as dance music in the USA and Europe.\n",
      "Beginning in 1990, the salsa romantica that began in the 1980s becomes a standard in tropical music thanks to chart-topping stars mainly from Puerto Rico such as Marc Anthony, Jerry Rivera, Tito Rojas, Víctor Manuelle and Gilberto Santa Rosa.\n",
      "\n",
      "\n",
      "=== Cumbia ===\n",
      "In the 1990s the popularity of cumbia waned in favour of other styles such as salsa but remained relatively strong. In Argentina, Mexico, El salvador, Colombia and other countries as well syntetizers and elemetyns of electronic music were incorporated into cumbia giving birth to cumbia sonidera, cumbia andina mexicana and cumbia villera. The blending of chicha music and cumbia in Peru also gained large popularity.\n",
      "\n",
      "\n",
      "== Australia and New Zealand ==\n",
      "Bands INXS and Crowded House, who had risen to international fame in the 1980s, continued their success into the nineties. However, INXS saw a decline in popularity after the release of 1993's Full Moon, Dirty Hearts, which did not even reach the US Top 50 and on 22 November 1997, a few months after the release of the band's tenth studio album Elegantly Wasted, lead singer Michael Hutchence was found dead in a Sydney hotel room. Crowded House released two further albums, 1991's Woodface and 1994's Together Alone, which were both successful internationally, but disbanded in 1996 after playing their 'Farewell to the World' concert at the steps of the Sydney Opera House. Their greatest hits compilation album Recurring Dream, released in 1996, debuted at number one in Australia, New Zealand and the United Kingdom and reached the Top 20 in several European territories.\n",
      "Australian singer Kylie Minogue, who quickly rose to fame in the late eighties, continued to be popular throughout the decade, most notably with songs \"Confide in Me\" and \"Where the Wild Roses Grow\", which she recorded with Nick Cave. The nineties also saw the emergence of pop/rock singer Natalie Imbruglia who gained a worldwide popularity with a cover of Ednaswap's song Torn, pop singer Peter Andre, pop band Human Nature, Tina Arena and R&B Hip Hop artists CDB and Deni Hines. Notable nineties Australian rock bands include Silverchair, Savage Garden, Bachelor Girl, Powderfinger, and The Living End.\n",
      "In New Zealand hip hop group OMC's single \"How Bizarre\" became the most successful New Zealand song in history, reaching number one in several music charts around the world, including Australia, Canada, Ireland, South Africa and Austria.  The nineties saw a surge in popularity of alternative rock music in New Zealand, especially the popularity of alternative rock bands from the independent music label Flying Nun Records. Successful alternative rock bands of this era include Straitjacket Fits, Headless Chickens and The Chills. Headless Chickens provided Flying Nun with their first number one New Zealand single in 1994 with their song \"George\".\n",
      "\n",
      "\n",
      "== Asia ==\n",
      "\n",
      "\n",
      "=== Japan ===\n",
      "Tokyo-based noise rock band Melt-Banana became an international touring cult act as well as the Boredoms.\n",
      "J-Pop was a major trend in the late 1990s. The Japanese record label Avex Trax produced a string of top-charting J-pop artists, including Namie Amuro, Ayumi Hamasaki, and the band Every Little Thing (band). Hikaru Utada, only 16 at the time, scored her signature hit in 1999 with \"Automatic\", which was later covered by Hong Kong singer Kelly Chen. Also in 1999, DA PUMP, a four-member boyband, had a hit with \"Crazy Beat Goes On!\", featured in the soundtrack of the year's film blockbuster, Star Wars Episode 1: The Phantom Menace. \"Give me a shake\", by girl-band MAX (band), was also a chart-topper in 1999.\n",
      "J-pop in the 1990s was significant because of its irresistible inclusion of English lyrics in the songs. Titles of most songs were also often in English. Notable examples include \"Feeling good - it's paradise\" by DA PUMP and \"Give me a shake\" by MAX. Other J-pop artists, such as Hokkaido two-girl band Kiroro, rarely included English lyrics in their songs.\n",
      "Some non-Japanese-speaking artists, such as Taiwan's Vivian Hsu, also crossed over successfully into J-pop; Hsu's band Black Biscuits had a hit single in 1999 in both Japanese and Taiwanese Mandarin with \"Bye bye\". Taiwanese singer A-mei recorded a Japanese song on her 1999 album May I hold you, lover?.\n",
      "\n",
      "\n",
      "=== Hong Kong, Taiwan, Malaysia, Singapore ===\n",
      "The 1990s saw a revival of interest in local music in Hong Kong, Taiwan, Malaysia, and Singapore. In these four regions alone, local artists outsold foreign artists, especially during the late 1990s.\n",
      "Three big Taiwanese rockers were household names throughout the 1990s. In 1997, it was Wu Bai; in 1998, the two-piece outfit Power Station (Taiwanese band); and in 1999, the veteran pub guitarist/singer Dick Cowboy.\n",
      "Wu was known for his versatile ability to sing and write songs in Hokkien (\"Number one in the world\", \"Back to hometown\", \"Lonely tree, lonely bird\") as well as Taiwanese Mandarin (\"Wanderer's love song\", \"Crying woman\"), and also his poetic lyrics. His compositions were also recorded by other artists such as Hong Kong's Jacky Cheung (\"If this is not love\"), Wakin Chau (\"Crying woman\"), and Andy Lau (\"Number one in the world\", \"Lone star tear\"), and Taiwan's Tarcy Su (\"Lazy Man's Diary\", \"Passive\", \"Yellow Moon\").\n",
      "Power Station, a Taiwanese aboriginal duo from the Paiwan tribe, were well known for their long hair, pitch-perfect two-part vocal harmonies, branded guitars/basses, and electrifying rock anthems. Members Yu Chiu-Hsin and Yen Chih-Lin also enjoyed success as singers of numerous television opening (and occasionally ending) themes throughout 1998 and 1999; they won the Best Theme Song award at the 1999 Star Awards for their song \"I can endure the hardship\", opening theme song to the award-winning drama series Stepping Out.Dick Cowboy had been a singer in various pubs in his youth, and was especially known for his covers of songs by A-mei, Phil Chang, and Jeff Chang. In 1999, at the age of 40, his original composition \"Forget me or forget him\" propelled him to superstardom.\n",
      "High-voiced male singers were fashionable in Taiwanese pop music in the 1990s. Jeff Chang was the foremost of these. His album Intuition (1998) contained the title track, which is his biggest single to date.\n",
      "Singer-songwriter Panda Hsiung, whose voice was very similar to Chang's, had his biggest hit with his original composition \"Incomprehensible memories\" in 1998, which was featured on the soundtrack of the drama, Legend of the Eight Immortals. Panda also had a string of hits throughout 1998 and 1999, including \"I Wander Alone\", \"River of the Blues\", \"Snowbird\",  and \"The Match Girl\".Other popular Taiwanese male singers with exceptionally high voices during the 1990s, included Chang Yu Sheng, Terry Lin, and Chyi Chin.\n",
      "The Eurodance craze found its way into the Asian pop market with such singers as Yuki Hsu. Her first big hit, recorded in 1999 when she was only 20, was \"Who is bad?\", a cover of Jonny Jakobsen's \"Calcutta (Taxi taxi taxi)\". Similarly, J-pop became popular in Taiwan and Hong Kong after their songs were translated into Chinese, for instance Kelly Chen's \"Automatic \", a cover of the Hikaru Utada original; and Rene Liu's \"Later\", a remake of the Kiroro original.Hong Kong's Four Heavenly Kings - Aaron Kwok, Andy Lau, Jacky Cheung, and Leon Lai - were the undisputed solo artists from Hong Kong in the 1990s. Cheung was also nicknamed the \"God of Songs\" during this period.\n",
      "Young Hong Kong singers Daniel Chan, Ronald Cheng, and Gigi Leung had their big breaks in the 1990s. Chan's \"Only you in my heart\", on the album of the same name, was released in 1997 when Chan was only 22; the song was later selected as the opening theme song of Singaporean TV series, From the Medical Files. Chan would also continue to sing a few television opening/ending themes in 1998, including \"Lonely nights I'm not lonely\" (from Stand by me), \"When dreams are discovered\" and \"Does your heart hurt\" (both from A Piece of Sky).\n",
      "Cheng's album I Really Can was released in 1999 and was his biggest seller to date; his other successful albums included You are not my dearest lover (1997) and Don't love me (1996).\n",
      "Leung's album Fresh (1999), with its stunning title track, was a bestseller upon its release, and the title track remains her signature song.\n",
      "Julie Su Rui of Taiwan and Anita Mui of Hong Kong, both of them established veteran singers, also had comeback albums in this period. Su's album \"Love comes this way\" was released in 1998; Mui's \"Intimate lover\", in 1992.\n",
      "Late in 1999, two Hong Kong veteran singers had chart-topping albums. Jordan Chan's album A Bigger Star contained the song \"I don't have such fate\"; while William So's album Loving someone is so hard contained \"You + me + heartbroken\", a re-recording of his signature song \"Sadder as we kiss\" with new lyrics.\n",
      "Other Asian singers who had chart-toppers in the 1990s included, among others:\n",
      "\n",
      "From Hong Kong: Wakin Chau, Sally Yip, Andy Hui, Samuel Tai, David Lui, and Sammi Cheng;\n",
      "From Taiwan: Tarcy Su, CoCo Lee, A-mei, Chao Chuan, Richie Ren, and Phil Chang;\n",
      "From Malaysia: Eric Moo, Ah Gu, and Auguste Kwan, and\n",
      "From Singapore: Kit Chan, Mavis Hee, and Fann Wong.The 1990s also saw the death of Taiwanese countertenor singer Chang Yu Sheng, who died in a car accident late in 1997. His protege, aboriginal singer A-mei, recorded the song \"Hearing you, hearing me\" in his memory.\n",
      "\n",
      "\n",
      "== See also ==\n",
      "\n",
      "1970s in music\n",
      "1980s in music\n",
      "2000s in music\n",
      "\n",
      "\n",
      "== References ==\n",
      "\n",
      "\n",
      "== External links ==\n",
      "90s Music – Grunge to Pop and Everything in Between\n",
      "90s Music Videos – Music Videos from the 1990s\n",
      "90s Music Hits\n"
     ]
    }
   ],
   "source": [
    "print(raw_text_music)"
   ]
  },
  {
   "cell_type": "markdown",
   "metadata": {},
   "source": [
    "# Question 4b"
   ]
  },
  {
   "cell_type": "markdown",
   "metadata": {},
   "source": [
    "**Question**\n",
    "![](./images/question4b.png)"
   ]
  },
  {
   "cell_type": "markdown",
   "metadata": {},
   "source": [
    "**Solution**"
   ]
  },
  {
   "cell_type": "markdown",
   "metadata": {},
   "source": [
    "Download the relevant tables from the given url:"
   ]
  },
  {
   "cell_type": "code",
   "execution_count": 4,
   "metadata": {},
   "outputs": [],
   "source": [
    "tables = pd.read_html('https://en.wikipedia.org/wiki/List_of_best-selling_music_artists',\n",
    "                      header=0,\n",
    "                      match='Claimed sales')"
   ]
  },
  {
   "cell_type": "markdown",
   "metadata": {},
   "source": [
    "Combine the Artist column in the tables into a single dataframe:"
   ]
  },
  {
   "cell_type": "code",
   "execution_count": 5,
   "metadata": {},
   "outputs": [],
   "source": [
    "artist_df = pd.concat(tables, sort=False)\\\n",
    "                .loc[:, 'Artist']\\\n",
    "                .to_frame()"
   ]
  },
  {
   "cell_type": "markdown",
   "metadata": {},
   "source": [
    "Preview some of the extracted best-selling music artists:"
   ]
  },
  {
   "cell_type": "code",
   "execution_count": 6,
   "metadata": {},
   "outputs": [
    {
     "data": {
      "text/html": [
       "<div>\n",
       "<style scoped>\n",
       "    .dataframe tbody tr th:only-of-type {\n",
       "        vertical-align: middle;\n",
       "    }\n",
       "\n",
       "    .dataframe tbody tr th {\n",
       "        vertical-align: top;\n",
       "    }\n",
       "\n",
       "    .dataframe thead th {\n",
       "        text-align: right;\n",
       "    }\n",
       "</style>\n",
       "<table border=\"1\" class=\"dataframe\">\n",
       "  <thead>\n",
       "    <tr style=\"text-align: right;\">\n",
       "      <th></th>\n",
       "      <th>Artist</th>\n",
       "    </tr>\n",
       "  </thead>\n",
       "  <tbody>\n",
       "    <tr>\n",
       "      <th>0</th>\n",
       "      <td>The Beatles</td>\n",
       "    </tr>\n",
       "    <tr>\n",
       "      <th>1</th>\n",
       "      <td>Elvis Presley</td>\n",
       "    </tr>\n",
       "    <tr>\n",
       "      <th>2</th>\n",
       "      <td>Michael Jackson</td>\n",
       "    </tr>\n",
       "    <tr>\n",
       "      <th>3</th>\n",
       "      <td>Madonna</td>\n",
       "    </tr>\n",
       "    <tr>\n",
       "      <th>4</th>\n",
       "      <td>Elton John</td>\n",
       "    </tr>\n",
       "  </tbody>\n",
       "</table>\n",
       "</div>"
      ],
      "text/plain": [
       "            Artist\n",
       "0      The Beatles\n",
       "1    Elvis Presley\n",
       "2  Michael Jackson\n",
       "3          Madonna\n",
       "4       Elton John"
      ]
     },
     "execution_count": 6,
     "metadata": {},
     "output_type": "execute_result"
    }
   ],
   "source": [
    "artist_df.head()"
   ]
  },
  {
   "cell_type": "markdown",
   "metadata": {},
   "source": [
    "# Question 4c"
   ]
  },
  {
   "cell_type": "markdown",
   "metadata": {},
   "source": [
    "**Question**\n",
    "![](./images/question4c.png)"
   ]
  },
  {
   "cell_type": "markdown",
   "metadata": {},
   "source": [
    "**Solution**"
   ]
  },
  {
   "cell_type": "markdown",
   "metadata": {},
   "source": [
    "For each artist, check if he/she was mentioned in `raw_text_music`:"
   ]
  },
  {
   "cell_type": "code",
   "execution_count": 7,
   "metadata": {},
   "outputs": [
    {
     "data": {
      "text/html": [
       "<div>\n",
       "<style scoped>\n",
       "    .dataframe tbody tr th:only-of-type {\n",
       "        vertical-align: middle;\n",
       "    }\n",
       "\n",
       "    .dataframe tbody tr th {\n",
       "        vertical-align: top;\n",
       "    }\n",
       "\n",
       "    .dataframe thead th {\n",
       "        text-align: right;\n",
       "    }\n",
       "</style>\n",
       "<table border=\"1\" class=\"dataframe\">\n",
       "  <thead>\n",
       "    <tr style=\"text-align: right;\">\n",
       "      <th></th>\n",
       "      <th>Artist</th>\n",
       "      <th>in_1990s</th>\n",
       "    </tr>\n",
       "  </thead>\n",
       "  <tbody>\n",
       "    <tr>\n",
       "      <th>17</th>\n",
       "      <td>Santana</td>\n",
       "      <td>False</td>\n",
       "    </tr>\n",
       "    <tr>\n",
       "      <th>0</th>\n",
       "      <td>The Black Eyed Peas</td>\n",
       "      <td>False</td>\n",
       "    </tr>\n",
       "    <tr>\n",
       "      <th>4</th>\n",
       "      <td>Jay-Z</td>\n",
       "      <td>True</td>\n",
       "    </tr>\n",
       "    <tr>\n",
       "      <th>24</th>\n",
       "      <td>Chicago</td>\n",
       "      <td>True</td>\n",
       "    </tr>\n",
       "    <tr>\n",
       "      <th>4</th>\n",
       "      <td>Celine Dion</td>\n",
       "      <td>False</td>\n",
       "    </tr>\n",
       "    <tr>\n",
       "      <th>1</th>\n",
       "      <td>Elvis Presley</td>\n",
       "      <td>False</td>\n",
       "    </tr>\n",
       "    <tr>\n",
       "      <th>11</th>\n",
       "      <td>Rod Stewart</td>\n",
       "      <td>False</td>\n",
       "    </tr>\n",
       "    <tr>\n",
       "      <th>0</th>\n",
       "      <td>The Beatles</td>\n",
       "      <td>True</td>\n",
       "    </tr>\n",
       "    <tr>\n",
       "      <th>0</th>\n",
       "      <td>Taylor Swift</td>\n",
       "      <td>False</td>\n",
       "    </tr>\n",
       "    <tr>\n",
       "      <th>1</th>\n",
       "      <td>Eminem</td>\n",
       "      <td>False</td>\n",
       "    </tr>\n",
       "  </tbody>\n",
       "</table>\n",
       "</div>"
      ],
      "text/plain": [
       "                 Artist  in_1990s\n",
       "17              Santana     False\n",
       "0   The Black Eyed Peas     False\n",
       "4                 Jay-Z      True\n",
       "24              Chicago      True\n",
       "4           Celine Dion     False\n",
       "1         Elvis Presley     False\n",
       "11          Rod Stewart     False\n",
       "0           The Beatles      True\n",
       "0          Taylor Swift     False\n",
       "1                Eminem     False"
      ]
     },
     "execution_count": 7,
     "metadata": {},
     "output_type": "execute_result"
    }
   ],
   "source": [
    "artist_df['in_1990s'] = artist_df['Artist'].apply(lambda artist: True if raw_text_music.find(artist) != -1 else False)\n",
    "\n",
    "#sanity check\n",
    "artist_df.sample(10)"
   ]
  },
  {
   "cell_type": "markdown",
   "metadata": {},
   "source": [
    "Count the number of artists that were mentioned in `raw_text_music`:"
   ]
  },
  {
   "cell_type": "code",
   "execution_count": 8,
   "metadata": {},
   "outputs": [
    {
     "data": {
      "text/plain": [
       "42"
      ]
     },
     "execution_count": 8,
     "metadata": {},
     "output_type": "execute_result"
    }
   ],
   "source": [
    "artist_df['in_1990s'].sum()"
   ]
  },
  {
   "cell_type": "markdown",
   "metadata": {},
   "source": [
    "There were 42 best-selling music arstist that are from the 1990s according to the extracted raw text from (a)."
   ]
  }
 ],
 "metadata": {
  "kernelspec": {
   "display_name": "Python 3",
   "language": "python",
   "name": "python3"
  },
  "language_info": {
   "codemirror_mode": {
    "name": "ipython",
    "version": 3
   },
   "file_extension": ".py",
   "mimetype": "text/x-python",
   "name": "python",
   "nbconvert_exporter": "python",
   "pygments_lexer": "ipython3",
   "version": "3.6.6"
  },
  "toc": {
   "nav_menu": {},
   "number_sections": true,
   "sideBar": true,
   "skip_h1_title": false,
   "toc_cell": true,
   "toc_position": {},
   "toc_section_display": "block",
   "toc_window_display": true
  }
 },
 "nbformat": 4,
 "nbformat_minor": 2
}
